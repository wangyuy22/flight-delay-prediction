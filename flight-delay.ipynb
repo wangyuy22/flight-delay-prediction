{
  "nbformat": 4,
  "nbformat_minor": 0,
  "metadata": {
    "colab": {
      "name": "CIS545 Project",
      "provenance": [],
      "collapsed_sections": [],
      "machine_shape": "hm"
    },
    "kernelspec": {
      "name": "python3",
      "display_name": "Python 3"
    }
  },
  "cells": [
    {
      "cell_type": "markdown",
      "metadata": {
        "id": "xWHdwATnSwup",
        "colab_type": "text"
      },
      "source": [
        "\n",
        "# **Section 1: Setup** "
      ]
    },
    {
      "cell_type": "markdown",
      "metadata": {
        "id": "rUJut3MRSkCd",
        "colab_type": "text"
      },
      "source": [
        "## 1.1 Downloading from Kaggle and unzipping files"
      ]
    },
    {
      "cell_type": "code",
      "metadata": {
        "id": "VsN1ieGpLIGg",
        "colab_type": "code",
        "outputId": "28b48922-11b7-4e71-8d99-1e3b9e356811",
        "colab": {
          "base_uri": "https://localhost:8080/",
          "height": 68
        }
      },
      "source": [
        "#Importing from Kaggle\n",
        "\n",
        "import os\n",
        "os.environ['KAGGLE_USERNAME'] = \"yuyangwang2000\" # username from the json file\n",
        "os.environ['KAGGLE_KEY'] = \"7ef7b84c5704c94c2e59c1c11c8a04da\" # key from the json file\n",
        "!kaggle datasets download -d yuanyuwendymu/airline-delay-and-cancellation-data-2009-2018 # api copied from kaggle"
      ],
      "execution_count": 1,
      "outputs": [
        {
          "output_type": "stream",
          "text": [
            "Downloading airline-delay-and-cancellation-data-2009-2018.zip to /content\n",
            " 99% 1.93G/1.95G [00:19<00:00, 124MB/s]\n",
            "100% 1.95G/1.95G [00:19<00:00, 106MB/s]\n"
          ],
          "name": "stdout"
        }
      ]
    },
    {
      "cell_type": "code",
      "metadata": {
        "id": "7TT0MfFiQ2Qe",
        "colab_type": "code",
        "outputId": "2a2829b6-5128-4db2-8c06-adbca8c74a1a",
        "colab": {
          "base_uri": "https://localhost:8080/",
          "height": 204
        }
      },
      "source": [
        "!unzip airline-delay-and-cancellation-data-2009-2018.zip"
      ],
      "execution_count": 2,
      "outputs": [
        {
          "output_type": "stream",
          "text": [
            "Archive:  airline-delay-and-cancellation-data-2009-2018.zip\n",
            "  inflating: 2009.csv                \n",
            "  inflating: 2010.csv                \n",
            "  inflating: 2011.csv                \n",
            "  inflating: 2012.csv                \n",
            "  inflating: 2013.csv                \n",
            "  inflating: 2014.csv                \n",
            "  inflating: 2015.csv                \n",
            "  inflating: 2016.csv                \n",
            "  inflating: 2017.csv                \n",
            "  inflating: 2018.csv                \n"
          ],
          "name": "stdout"
        }
      ]
    },
    {
      "cell_type": "markdown",
      "metadata": {
        "id": "Vp0XOu9xdOZT",
        "colab_type": "text"
      },
      "source": [
        "##1.2 Set up environment, downloading packages, import libraries"
      ]
    },
    {
      "cell_type": "code",
      "metadata": {
        "id": "V5Ea650lhvf2",
        "colab_type": "code",
        "outputId": "71fa1ca4-9d62-49f2-951f-77e60c9f3f3a",
        "colab": {
          "base_uri": "https://localhost:8080/",
          "height": 1000
        }
      },
      "source": [
        "! sudo apt install openjdk-8-jdk\n",
        "! sudo update-alternatives --config java"
      ],
      "execution_count": 3,
      "outputs": [
        {
          "output_type": "stream",
          "text": [
            "Reading package lists... Done\n",
            "Building dependency tree       \n",
            "Reading state information... Done\n",
            "The following additional packages will be installed:\n",
            "  fonts-dejavu-core fonts-dejavu-extra libatk-wrapper-java\n",
            "  libatk-wrapper-java-jni libxxf86dga1 openjdk-8-jdk-headless openjdk-8-jre\n",
            "  openjdk-8-jre-headless x11-utils\n",
            "Suggested packages:\n",
            "  openjdk-8-demo openjdk-8-source visualvm icedtea-8-plugin libnss-mdns\n",
            "  fonts-ipafont-gothic fonts-ipafont-mincho fonts-wqy-microhei\n",
            "  fonts-wqy-zenhei fonts-indic mesa-utils\n",
            "The following NEW packages will be installed:\n",
            "  fonts-dejavu-core fonts-dejavu-extra libatk-wrapper-java\n",
            "  libatk-wrapper-java-jni libxxf86dga1 openjdk-8-jdk openjdk-8-jdk-headless\n",
            "  openjdk-8-jre openjdk-8-jre-headless x11-utils\n",
            "0 upgraded, 10 newly installed, 0 to remove and 29 not upgraded.\n",
            "Need to get 40.7 MB of archives.\n",
            "After this operation, 153 MB of additional disk space will be used.\n",
            "Get:1 http://archive.ubuntu.com/ubuntu bionic/main amd64 libxxf86dga1 amd64 2:1.1.4-1 [13.7 kB]\n",
            "Get:2 http://archive.ubuntu.com/ubuntu bionic/main amd64 fonts-dejavu-core all 2.37-1 [1,041 kB]\n",
            "Get:3 http://archive.ubuntu.com/ubuntu bionic/main amd64 fonts-dejavu-extra all 2.37-1 [1,953 kB]\n",
            "Get:4 http://archive.ubuntu.com/ubuntu bionic/main amd64 x11-utils amd64 7.7+3build1 [196 kB]\n",
            "Get:5 http://archive.ubuntu.com/ubuntu bionic/main amd64 libatk-wrapper-java all 0.33.3-20ubuntu0.1 [34.7 kB]\n",
            "Get:6 http://archive.ubuntu.com/ubuntu bionic/main amd64 libatk-wrapper-java-jni amd64 0.33.3-20ubuntu0.1 [28.3 kB]\n",
            "Get:7 http://archive.ubuntu.com/ubuntu bionic-updates/universe amd64 openjdk-8-jre-headless amd64 8u252-b09-1~18.04 [27.5 MB]\n",
            "Get:8 http://archive.ubuntu.com/ubuntu bionic-updates/universe amd64 openjdk-8-jre amd64 8u252-b09-1~18.04 [69.8 kB]\n",
            "Get:9 http://archive.ubuntu.com/ubuntu bionic-updates/universe amd64 openjdk-8-jdk-headless amd64 8u252-b09-1~18.04 [8,250 kB]\n",
            "Get:10 http://archive.ubuntu.com/ubuntu bionic-updates/universe amd64 openjdk-8-jdk amd64 8u252-b09-1~18.04 [1,622 kB]\n",
            "Fetched 40.7 MB in 2s (17.6 MB/s)\n",
            "debconf: unable to initialize frontend: Dialog\n",
            "debconf: (No usable dialog-like program is installed, so the dialog based frontend cannot be used. at /usr/share/perl5/Debconf/FrontEnd/Dialog.pm line 76, <> line 10.)\n",
            "debconf: falling back to frontend: Readline\n",
            "debconf: unable to initialize frontend: Readline\n",
            "debconf: (This frontend requires a controlling tty.)\n",
            "debconf: falling back to frontend: Teletype\n",
            "dpkg-preconfigure: unable to re-open stdin: \n",
            "Selecting previously unselected package libxxf86dga1:amd64.\n",
            "(Reading database ... 144429 files and directories currently installed.)\n",
            "Preparing to unpack .../0-libxxf86dga1_2%3a1.1.4-1_amd64.deb ...\n",
            "Unpacking libxxf86dga1:amd64 (2:1.1.4-1) ...\n",
            "Selecting previously unselected package fonts-dejavu-core.\n",
            "Preparing to unpack .../1-fonts-dejavu-core_2.37-1_all.deb ...\n",
            "Unpacking fonts-dejavu-core (2.37-1) ...\n",
            "Selecting previously unselected package fonts-dejavu-extra.\n",
            "Preparing to unpack .../2-fonts-dejavu-extra_2.37-1_all.deb ...\n",
            "Unpacking fonts-dejavu-extra (2.37-1) ...\n",
            "Selecting previously unselected package x11-utils.\n",
            "Preparing to unpack .../3-x11-utils_7.7+3build1_amd64.deb ...\n",
            "Unpacking x11-utils (7.7+3build1) ...\n",
            "Selecting previously unselected package libatk-wrapper-java.\n",
            "Preparing to unpack .../4-libatk-wrapper-java_0.33.3-20ubuntu0.1_all.deb ...\n",
            "Unpacking libatk-wrapper-java (0.33.3-20ubuntu0.1) ...\n",
            "Selecting previously unselected package libatk-wrapper-java-jni:amd64.\n",
            "Preparing to unpack .../5-libatk-wrapper-java-jni_0.33.3-20ubuntu0.1_amd64.deb ...\n",
            "Unpacking libatk-wrapper-java-jni:amd64 (0.33.3-20ubuntu0.1) ...\n",
            "Selecting previously unselected package openjdk-8-jre-headless:amd64.\n",
            "Preparing to unpack .../6-openjdk-8-jre-headless_8u252-b09-1~18.04_amd64.deb ...\n",
            "Unpacking openjdk-8-jre-headless:amd64 (8u252-b09-1~18.04) ...\n",
            "Selecting previously unselected package openjdk-8-jre:amd64.\n",
            "Preparing to unpack .../7-openjdk-8-jre_8u252-b09-1~18.04_amd64.deb ...\n",
            "Unpacking openjdk-8-jre:amd64 (8u252-b09-1~18.04) ...\n",
            "Selecting previously unselected package openjdk-8-jdk-headless:amd64.\n",
            "Preparing to unpack .../8-openjdk-8-jdk-headless_8u252-b09-1~18.04_amd64.deb ...\n",
            "Unpacking openjdk-8-jdk-headless:amd64 (8u252-b09-1~18.04) ...\n",
            "Selecting previously unselected package openjdk-8-jdk:amd64.\n",
            "Preparing to unpack .../9-openjdk-8-jdk_8u252-b09-1~18.04_amd64.deb ...\n",
            "Unpacking openjdk-8-jdk:amd64 (8u252-b09-1~18.04) ...\n",
            "Setting up fonts-dejavu-core (2.37-1) ...\n",
            "Setting up libxxf86dga1:amd64 (2:1.1.4-1) ...\n",
            "Setting up fonts-dejavu-extra (2.37-1) ...\n",
            "Setting up openjdk-8-jre-headless:amd64 (8u252-b09-1~18.04) ...\n",
            "update-alternatives: using /usr/lib/jvm/java-8-openjdk-amd64/jre/bin/orbd to provide /usr/bin/orbd (orbd) in auto mode\n",
            "update-alternatives: using /usr/lib/jvm/java-8-openjdk-amd64/jre/bin/servertool to provide /usr/bin/servertool (servertool) in auto mode\n",
            "update-alternatives: using /usr/lib/jvm/java-8-openjdk-amd64/jre/bin/tnameserv to provide /usr/bin/tnameserv (tnameserv) in auto mode\n",
            "Setting up openjdk-8-jdk-headless:amd64 (8u252-b09-1~18.04) ...\n",
            "update-alternatives: using /usr/lib/jvm/java-8-openjdk-amd64/bin/idlj to provide /usr/bin/idlj (idlj) in auto mode\n",
            "update-alternatives: using /usr/lib/jvm/java-8-openjdk-amd64/bin/wsimport to provide /usr/bin/wsimport (wsimport) in auto mode\n",
            "update-alternatives: using /usr/lib/jvm/java-8-openjdk-amd64/bin/jsadebugd to provide /usr/bin/jsadebugd (jsadebugd) in auto mode\n",
            "update-alternatives: using /usr/lib/jvm/java-8-openjdk-amd64/bin/native2ascii to provide /usr/bin/native2ascii (native2ascii) in auto mode\n",
            "update-alternatives: using /usr/lib/jvm/java-8-openjdk-amd64/bin/javah to provide /usr/bin/javah (javah) in auto mode\n",
            "update-alternatives: using /usr/lib/jvm/java-8-openjdk-amd64/bin/clhsdb to provide /usr/bin/clhsdb (clhsdb) in auto mode\n",
            "update-alternatives: using /usr/lib/jvm/java-8-openjdk-amd64/bin/extcheck to provide /usr/bin/extcheck (extcheck) in auto mode\n",
            "update-alternatives: using /usr/lib/jvm/java-8-openjdk-amd64/bin/hsdb to provide /usr/bin/hsdb (hsdb) in auto mode\n",
            "update-alternatives: using /usr/lib/jvm/java-8-openjdk-amd64/bin/schemagen to provide /usr/bin/schemagen (schemagen) in auto mode\n",
            "update-alternatives: using /usr/lib/jvm/java-8-openjdk-amd64/bin/xjc to provide /usr/bin/xjc (xjc) in auto mode\n",
            "update-alternatives: using /usr/lib/jvm/java-8-openjdk-amd64/bin/jhat to provide /usr/bin/jhat (jhat) in auto mode\n",
            "update-alternatives: using /usr/lib/jvm/java-8-openjdk-amd64/bin/wsgen to provide /usr/bin/wsgen (wsgen) in auto mode\n",
            "Setting up x11-utils (7.7+3build1) ...\n",
            "Setting up libatk-wrapper-java (0.33.3-20ubuntu0.1) ...\n",
            "Setting up libatk-wrapper-java-jni:amd64 (0.33.3-20ubuntu0.1) ...\n",
            "Setting up openjdk-8-jre:amd64 (8u252-b09-1~18.04) ...\n",
            "update-alternatives: using /usr/lib/jvm/java-8-openjdk-amd64/jre/bin/policytool to provide /usr/bin/policytool (policytool) in auto mode\n",
            "Setting up openjdk-8-jdk:amd64 (8u252-b09-1~18.04) ...\n",
            "update-alternatives: using /usr/lib/jvm/java-8-openjdk-amd64/bin/appletviewer to provide /usr/bin/appletviewer (appletviewer) in auto mode\n",
            "update-alternatives: using /usr/lib/jvm/java-8-openjdk-amd64/bin/jconsole to provide /usr/bin/jconsole (jconsole) in auto mode\n",
            "Processing triggers for man-db (2.8.3-2ubuntu0.1) ...\n",
            "Processing triggers for hicolor-icon-theme (0.17-2) ...\n",
            "Processing triggers for fontconfig (2.12.6-0ubuntu2) ...\n",
            "Processing triggers for mime-support (3.60ubuntu1) ...\n",
            "Processing triggers for libc-bin (2.27-3ubuntu1) ...\n",
            "/sbin/ldconfig.real: /usr/local/lib/python3.6/dist-packages/ideep4py/lib/libmkldnn.so.0 is not a symbolic link\n",
            "\n",
            "There are 2 choices for the alternative java (providing /usr/bin/java).\n",
            "\n",
            "  Selection    Path                                            Priority   Status\n",
            "------------------------------------------------------------\n",
            "* 0            /usr/lib/jvm/java-11-openjdk-amd64/bin/java      1111      auto mode\n",
            "  1            /usr/lib/jvm/java-11-openjdk-amd64/bin/java      1111      manual mode\n",
            "  2            /usr/lib/jvm/java-8-openjdk-amd64/jre/bin/java   1081      manual mode\n",
            "\n",
            "Press <enter> to keep the current choice[*], or type selection number: 2\n",
            "update-alternatives: using /usr/lib/jvm/java-8-openjdk-amd64/jre/bin/java to provide /usr/bin/java (java) in manual mode\n"
          ],
          "name": "stdout"
        }
      ]
    },
    {
      "cell_type": "code",
      "metadata": {
        "id": "G8RH4R771X6n",
        "colab_type": "code",
        "outputId": "77817061-7e11-46a5-df4d-df5ae19692fa",
        "colab": {
          "base_uri": "https://localhost:8080/",
          "height": 1000
        }
      },
      "source": [
        "!apt install libkrb5-dev\n",
        "!wget https://www-us.apache.org/dist/spark/spark-2.4.5/spark-2.4.5-bin-hadoop2.7.tgz\n",
        "!tar xf spark-2.4.5-bin-hadoop2.7.tgz\n",
        "!pip install findspark\n",
        "!pip install sparkmagic\n",
        "!pip install pyspark\n",
        "!pip install pyspark --user\n",
        "!pip install seaborn --user\n",
        "!pip install plotly --user\n",
        "!pip install imageio --user\n",
        "!pip install folium --user"
      ],
      "execution_count": 4,
      "outputs": [
        {
          "output_type": "stream",
          "text": [
            "Reading package lists... Done\n",
            "Building dependency tree       \n",
            "Reading state information... Done\n",
            "The following additional packages will be installed:\n",
            "  comerr-dev krb5-multidev libcom-err2 libgssrpc4 libkadm5clnt-mit11\n",
            "  libkadm5srv-mit11 libkdb5-9\n",
            "Suggested packages:\n",
            "  doc-base krb5-doc krb5-user\n",
            "The following NEW packages will be installed:\n",
            "  comerr-dev krb5-multidev libgssrpc4 libkadm5clnt-mit11 libkadm5srv-mit11\n",
            "  libkdb5-9 libkrb5-dev\n",
            "The following packages will be upgraded:\n",
            "  libcom-err2\n",
            "1 upgraded, 7 newly installed, 0 to remove and 28 not upgraded.\n",
            "Need to get 358 kB of archives.\n",
            "After this operation, 1,992 kB of additional disk space will be used.\n",
            "Get:1 http://archive.ubuntu.com/ubuntu bionic-updates/main amd64 libcom-err2 amd64 1.44.1-1ubuntu1.3 [8,848 B]\n",
            "Get:2 http://archive.ubuntu.com/ubuntu bionic-updates/main amd64 libgssrpc4 amd64 1.16-2ubuntu0.1 [54.2 kB]\n",
            "Get:3 http://archive.ubuntu.com/ubuntu bionic-updates/main amd64 libkdb5-9 amd64 1.16-2ubuntu0.1 [37.2 kB]\n",
            "Get:4 http://archive.ubuntu.com/ubuntu bionic-updates/main amd64 libkadm5srv-mit11 amd64 1.16-2ubuntu0.1 [49.7 kB]\n",
            "Get:5 http://archive.ubuntu.com/ubuntu bionic-updates/main amd64 libkadm5clnt-mit11 amd64 1.16-2ubuntu0.1 [38.2 kB]\n",
            "Get:6 http://archive.ubuntu.com/ubuntu bionic-updates/main amd64 comerr-dev amd64 2.1-1.44.1-1ubuntu1.3 [38.5 kB]\n",
            "Get:7 http://archive.ubuntu.com/ubuntu bionic-updates/main amd64 krb5-multidev amd64 1.16-2ubuntu0.1 [120 kB]\n",
            "Get:8 http://archive.ubuntu.com/ubuntu bionic-updates/main amd64 libkrb5-dev amd64 1.16-2ubuntu0.1 [11.8 kB]\n",
            "Fetched 358 kB in 1s (475 kB/s)\n",
            "(Reading database ... 144933 files and directories currently installed.)\n",
            "Preparing to unpack .../libcom-err2_1.44.1-1ubuntu1.3_amd64.deb ...\n",
            "Unpacking libcom-err2:amd64 (1.44.1-1ubuntu1.3) over (1.44.1-1ubuntu1.2) ...\n",
            "Setting up libcom-err2:amd64 (1.44.1-1ubuntu1.3) ...\n",
            "Selecting previously unselected package libgssrpc4:amd64.\n",
            "(Reading database ... 144933 files and directories currently installed.)\n",
            "Preparing to unpack .../0-libgssrpc4_1.16-2ubuntu0.1_amd64.deb ...\n",
            "Unpacking libgssrpc4:amd64 (1.16-2ubuntu0.1) ...\n",
            "Selecting previously unselected package libkdb5-9:amd64.\n",
            "Preparing to unpack .../1-libkdb5-9_1.16-2ubuntu0.1_amd64.deb ...\n",
            "Unpacking libkdb5-9:amd64 (1.16-2ubuntu0.1) ...\n",
            "Selecting previously unselected package libkadm5srv-mit11:amd64.\n",
            "Preparing to unpack .../2-libkadm5srv-mit11_1.16-2ubuntu0.1_amd64.deb ...\n",
            "Unpacking libkadm5srv-mit11:amd64 (1.16-2ubuntu0.1) ...\n",
            "Selecting previously unselected package libkadm5clnt-mit11:amd64.\n",
            "Preparing to unpack .../3-libkadm5clnt-mit11_1.16-2ubuntu0.1_amd64.deb ...\n",
            "Unpacking libkadm5clnt-mit11:amd64 (1.16-2ubuntu0.1) ...\n",
            "Selecting previously unselected package comerr-dev:amd64.\n",
            "Preparing to unpack .../4-comerr-dev_2.1-1.44.1-1ubuntu1.3_amd64.deb ...\n",
            "Unpacking comerr-dev:amd64 (2.1-1.44.1-1ubuntu1.3) ...\n",
            "Selecting previously unselected package krb5-multidev:amd64.\n",
            "Preparing to unpack .../5-krb5-multidev_1.16-2ubuntu0.1_amd64.deb ...\n",
            "Unpacking krb5-multidev:amd64 (1.16-2ubuntu0.1) ...\n",
            "Selecting previously unselected package libkrb5-dev:amd64.\n",
            "Preparing to unpack .../6-libkrb5-dev_1.16-2ubuntu0.1_amd64.deb ...\n",
            "Unpacking libkrb5-dev:amd64 (1.16-2ubuntu0.1) ...\n",
            "Setting up libgssrpc4:amd64 (1.16-2ubuntu0.1) ...\n",
            "Setting up comerr-dev:amd64 (2.1-1.44.1-1ubuntu1.3) ...\n",
            "Setting up libkdb5-9:amd64 (1.16-2ubuntu0.1) ...\n",
            "Setting up libkadm5srv-mit11:amd64 (1.16-2ubuntu0.1) ...\n",
            "Setting up libkadm5clnt-mit11:amd64 (1.16-2ubuntu0.1) ...\n",
            "Setting up krb5-multidev:amd64 (1.16-2ubuntu0.1) ...\n",
            "Setting up libkrb5-dev:amd64 (1.16-2ubuntu0.1) ...\n",
            "Processing triggers for man-db (2.8.3-2ubuntu0.1) ...\n",
            "Processing triggers for libc-bin (2.27-3ubuntu1) ...\n",
            "/sbin/ldconfig.real: /usr/local/lib/python3.6/dist-packages/ideep4py/lib/libmkldnn.so.0 is not a symbolic link\n",
            "\n",
            "--2020-05-07 02:16:10--  https://www-us.apache.org/dist/spark/spark-2.4.5/spark-2.4.5-bin-hadoop2.7.tgz\n",
            "Resolving www-us.apache.org (www-us.apache.org)... 40.79.78.1\n",
            "Connecting to www-us.apache.org (www-us.apache.org)|40.79.78.1|:443... connected.\n",
            "HTTP request sent, awaiting response... 302 Found\n",
            "Location: https://downloads.apache.org/spark/spark-2.4.5/spark-2.4.5-bin-hadoop2.7.tgz [following]\n",
            "--2020-05-07 02:16:10--  https://downloads.apache.org/spark/spark-2.4.5/spark-2.4.5-bin-hadoop2.7.tgz\n",
            "Resolving downloads.apache.org (downloads.apache.org)... 88.99.95.219, 2a01:4f8:10a:201a::2\n",
            "Connecting to downloads.apache.org (downloads.apache.org)|88.99.95.219|:443... connected.\n",
            "HTTP request sent, awaiting response... 200 OK\n",
            "Length: 232530699 (222M) [application/x-gzip]\n",
            "Saving to: ‘spark-2.4.5-bin-hadoop2.7.tgz’\n",
            "\n",
            "spark-2.4.5-bin-had 100%[===================>] 221.76M  26.3MB/s    in 9.2s    \n",
            "\n",
            "2020-05-07 02:16:20 (24.2 MB/s) - ‘spark-2.4.5-bin-hadoop2.7.tgz’ saved [232530699/232530699]\n",
            "\n",
            "Collecting findspark\n",
            "  Downloading https://files.pythonhosted.org/packages/b1/c8/e6e1f6a303ae5122dc28d131b5a67c5eb87cbf8f7ac5b9f87764ea1b1e1e/findspark-1.3.0-py2.py3-none-any.whl\n",
            "Installing collected packages: findspark\n",
            "Successfully installed findspark-1.3.0\n",
            "Collecting sparkmagic\n",
            "  Downloading https://files.pythonhosted.org/packages/eb/f3/458361eec01b7c1fb5aaa1b28a2e24b22167f577c2ab83d12b365a98be75/sparkmagic-0.15.0.tar.gz\n",
            "Collecting hdijupyterutils>=0.6\n",
            "  Downloading https://files.pythonhosted.org/packages/a9/b9/4daa0d8319a9e9101d6d6c8af1f5b1e87178542a70995a4ff2611005cc98/hdijupyterutils-0.15.0.tar.gz\n",
            "Collecting autovizwidget>=0.6\n",
            "  Downloading https://files.pythonhosted.org/packages/17/bb/d7d725dc3288354c4431dbf53aa40d0014379ec9a45475805f62436573ec/autovizwidget-0.15.0.tar.gz\n",
            "Requirement already satisfied: ipython>=4.0.2 in /usr/local/lib/python3.6/dist-packages (from sparkmagic) (5.5.0)\n",
            "Collecting nose\n",
            "\u001b[?25l  Downloading https://files.pythonhosted.org/packages/15/d8/dd071918c040f50fa1cf80da16423af51ff8ce4a0f2399b7bf8de45ac3d9/nose-1.3.7-py3-none-any.whl (154kB)\n",
            "\u001b[K     |████████████████████████████████| 163kB 6.0MB/s \n",
            "\u001b[?25hCollecting mock\n",
            "  Downloading https://files.pythonhosted.org/packages/cd/74/d72daf8dff5b6566db857cfd088907bb0355f5dd2914c4b3ef065c790735/mock-4.0.2-py3-none-any.whl\n",
            "Requirement already satisfied: pandas>=0.17.1 in /usr/local/lib/python3.6/dist-packages (from sparkmagic) (1.0.3)\n",
            "Requirement already satisfied: numpy in /usr/local/lib/python3.6/dist-packages (from sparkmagic) (1.18.3)\n",
            "Requirement already satisfied: requests in /usr/local/lib/python3.6/dist-packages (from sparkmagic) (2.23.0)\n",
            "Requirement already satisfied: ipykernel in /usr/local/lib/python3.6/dist-packages (from sparkmagic) (4.10.1)\n",
            "Requirement already satisfied: ipywidgets>5.0.0 in /usr/local/lib/python3.6/dist-packages (from sparkmagic) (7.5.1)\n",
            "Requirement already satisfied: notebook>=4.2 in /usr/local/lib/python3.6/dist-packages (from sparkmagic) (5.2.2)\n",
            "Requirement already satisfied: tornado>=4 in /usr/local/lib/python3.6/dist-packages (from sparkmagic) (4.5.3)\n",
            "Collecting requests_kerberos>=0.8.0\n",
            "  Downloading https://files.pythonhosted.org/packages/ee/a2/866f2b9a60f75055137b9ad127033e397963b2c4769d4b5fab1c3c7e8be3/requests_kerberos-0.12.0-py2.py3-none-any.whl\n",
            "Requirement already satisfied: jupyter>=1 in /usr/local/lib/python3.6/dist-packages (from hdijupyterutils>=0.6->sparkmagic) (1.0.0)\n",
            "Requirement already satisfied: plotly>=3 in /usr/local/lib/python3.6/dist-packages (from autovizwidget>=0.6->sparkmagic) (4.4.1)\n",
            "Requirement already satisfied: setuptools>=18.5 in /usr/local/lib/python3.6/dist-packages (from ipython>=4.0.2->sparkmagic) (46.1.3)\n",
            "Requirement already satisfied: pickleshare in /usr/local/lib/python3.6/dist-packages (from ipython>=4.0.2->sparkmagic) (0.7.5)\n",
            "Requirement already satisfied: prompt-toolkit<2.0.0,>=1.0.4 in /usr/local/lib/python3.6/dist-packages (from ipython>=4.0.2->sparkmagic) (1.0.18)\n",
            "Requirement already satisfied: traitlets>=4.2 in /usr/local/lib/python3.6/dist-packages (from ipython>=4.0.2->sparkmagic) (4.3.3)\n",
            "Requirement already satisfied: simplegeneric>0.8 in /usr/local/lib/python3.6/dist-packages (from ipython>=4.0.2->sparkmagic) (0.8.1)\n",
            "Requirement already satisfied: decorator in /usr/local/lib/python3.6/dist-packages (from ipython>=4.0.2->sparkmagic) (4.4.2)\n",
            "Requirement already satisfied: pexpect; sys_platform != \"win32\" in /usr/local/lib/python3.6/dist-packages (from ipython>=4.0.2->sparkmagic) (4.8.0)\n",
            "Requirement already satisfied: pygments in /usr/local/lib/python3.6/dist-packages (from ipython>=4.0.2->sparkmagic) (2.1.3)\n",
            "Requirement already satisfied: pytz>=2017.2 in /usr/local/lib/python3.6/dist-packages (from pandas>=0.17.1->sparkmagic) (2018.9)\n",
            "Requirement already satisfied: python-dateutil>=2.6.1 in /usr/local/lib/python3.6/dist-packages (from pandas>=0.17.1->sparkmagic) (2.8.1)\n",
            "Requirement already satisfied: urllib3!=1.25.0,!=1.25.1,<1.26,>=1.21.1 in /usr/local/lib/python3.6/dist-packages (from requests->sparkmagic) (1.24.3)\n",
            "Requirement already satisfied: idna<3,>=2.5 in /usr/local/lib/python3.6/dist-packages (from requests->sparkmagic) (2.9)\n",
            "Requirement already satisfied: certifi>=2017.4.17 in /usr/local/lib/python3.6/dist-packages (from requests->sparkmagic) (2020.4.5.1)\n",
            "Requirement already satisfied: chardet<4,>=3.0.2 in /usr/local/lib/python3.6/dist-packages (from requests->sparkmagic) (3.0.4)\n",
            "Requirement already satisfied: jupyter-client in /usr/local/lib/python3.6/dist-packages (from ipykernel->sparkmagic) (5.3.4)\n",
            "Requirement already satisfied: widgetsnbextension~=3.5.0 in /usr/local/lib/python3.6/dist-packages (from ipywidgets>5.0.0->sparkmagic) (3.5.1)\n",
            "Requirement already satisfied: nbformat>=4.2.0 in /usr/local/lib/python3.6/dist-packages (from ipywidgets>5.0.0->sparkmagic) (5.0.6)\n",
            "Requirement already satisfied: ipython-genutils in /usr/local/lib/python3.6/dist-packages (from notebook>=4.2->sparkmagic) (0.2.0)\n",
            "Requirement already satisfied: jinja2 in /usr/local/lib/python3.6/dist-packages (from notebook>=4.2->sparkmagic) (2.11.2)\n",
            "Requirement already satisfied: jupyter-core in /usr/local/lib/python3.6/dist-packages (from notebook>=4.2->sparkmagic) (4.6.3)\n",
            "Requirement already satisfied: nbconvert in /usr/local/lib/python3.6/dist-packages (from notebook>=4.2->sparkmagic) (5.6.1)\n",
            "Requirement already satisfied: terminado>=0.3.3; sys_platform != \"win32\" in /usr/local/lib/python3.6/dist-packages (from notebook>=4.2->sparkmagic) (0.8.3)\n",
            "Collecting cryptography>=1.3; python_version != \"3.3\"\n",
            "\u001b[?25l  Downloading https://files.pythonhosted.org/packages/3c/04/686efee2dcdd25aecf357992e7d9362f443eb182ecd623f882bc9f7a6bba/cryptography-2.9.2-cp35-abi3-manylinux2010_x86_64.whl (2.7MB)\n",
            "\u001b[K     |████████████████████████████████| 2.7MB 19.7MB/s \n",
            "\u001b[?25hCollecting pykerberos<2.0.0,>=1.1.8; sys_platform != \"win32\"\n",
            "  Downloading https://files.pythonhosted.org/packages/9a/b8/1ec56b6fa8a2e2a81420bd3d90e70b59fc83f6b857fb2c2c37accddc8be3/pykerberos-1.2.1.tar.gz\n",
            "Requirement already satisfied: jupyter-console in /usr/local/lib/python3.6/dist-packages (from jupyter>=1->hdijupyterutils>=0.6->sparkmagic) (5.2.0)\n",
            "Requirement already satisfied: qtconsole in /usr/local/lib/python3.6/dist-packages (from jupyter>=1->hdijupyterutils>=0.6->sparkmagic) (4.7.3)\n",
            "Requirement already satisfied: retrying>=1.3.3 in /usr/local/lib/python3.6/dist-packages (from plotly>=3->autovizwidget>=0.6->sparkmagic) (1.3.3)\n",
            "Requirement already satisfied: six in /usr/local/lib/python3.6/dist-packages (from plotly>=3->autovizwidget>=0.6->sparkmagic) (1.12.0)\n",
            "Requirement already satisfied: wcwidth in /usr/local/lib/python3.6/dist-packages (from prompt-toolkit<2.0.0,>=1.0.4->ipython>=4.0.2->sparkmagic) (0.1.9)\n",
            "Requirement already satisfied: ptyprocess>=0.5 in /usr/local/lib/python3.6/dist-packages (from pexpect; sys_platform != \"win32\"->ipython>=4.0.2->sparkmagic) (0.6.0)\n",
            "Requirement already satisfied: pyzmq>=13 in /usr/local/lib/python3.6/dist-packages (from jupyter-client->ipykernel->sparkmagic) (19.0.0)\n",
            "Requirement already satisfied: jsonschema!=2.5.0,>=2.4 in /usr/local/lib/python3.6/dist-packages (from nbformat>=4.2.0->ipywidgets>5.0.0->sparkmagic) (2.6.0)\n",
            "Requirement already satisfied: MarkupSafe>=0.23 in /usr/local/lib/python3.6/dist-packages (from jinja2->notebook>=4.2->sparkmagic) (1.1.1)\n",
            "Requirement already satisfied: pandocfilters>=1.4.1 in /usr/local/lib/python3.6/dist-packages (from nbconvert->notebook>=4.2->sparkmagic) (1.4.2)\n",
            "Requirement already satisfied: entrypoints>=0.2.2 in /usr/local/lib/python3.6/dist-packages (from nbconvert->notebook>=4.2->sparkmagic) (0.3)\n",
            "Requirement already satisfied: testpath in /usr/local/lib/python3.6/dist-packages (from nbconvert->notebook>=4.2->sparkmagic) (0.4.4)\n",
            "Requirement already satisfied: mistune<2,>=0.8.1 in /usr/local/lib/python3.6/dist-packages (from nbconvert->notebook>=4.2->sparkmagic) (0.8.4)\n",
            "Requirement already satisfied: defusedxml in /usr/local/lib/python3.6/dist-packages (from nbconvert->notebook>=4.2->sparkmagic) (0.6.0)\n",
            "Requirement already satisfied: bleach in /usr/local/lib/python3.6/dist-packages (from nbconvert->notebook>=4.2->sparkmagic) (3.1.5)\n",
            "Requirement already satisfied: cffi!=1.11.3,>=1.8 in /usr/local/lib/python3.6/dist-packages (from cryptography>=1.3; python_version != \"3.3\"->requests_kerberos>=0.8.0->sparkmagic) (1.14.0)\n",
            "Requirement already satisfied: qtpy in /usr/local/lib/python3.6/dist-packages (from qtconsole->jupyter>=1->hdijupyterutils>=0.6->sparkmagic) (1.9.0)\n",
            "Requirement already satisfied: webencodings in /usr/local/lib/python3.6/dist-packages (from bleach->nbconvert->notebook>=4.2->sparkmagic) (0.5.1)\n",
            "Requirement already satisfied: packaging in /usr/local/lib/python3.6/dist-packages (from bleach->nbconvert->notebook>=4.2->sparkmagic) (20.3)\n",
            "Requirement already satisfied: pycparser in /usr/local/lib/python3.6/dist-packages (from cffi!=1.11.3,>=1.8->cryptography>=1.3; python_version != \"3.3\"->requests_kerberos>=0.8.0->sparkmagic) (2.20)\n",
            "Requirement already satisfied: pyparsing>=2.0.2 in /usr/local/lib/python3.6/dist-packages (from packaging->bleach->nbconvert->notebook>=4.2->sparkmagic) (2.4.7)\n",
            "Building wheels for collected packages: sparkmagic, hdijupyterutils, autovizwidget, pykerberos\n",
            "  Building wheel for sparkmagic (setup.py) ... \u001b[?25l\u001b[?25hdone\n",
            "  Created wheel for sparkmagic: filename=sparkmagic-0.15.0-cp36-none-any.whl size=57176 sha256=15eb6115cc6b9e4ded6c6158d679902c1339cd5f7a5cb354bc644d961aff241f\n",
            "  Stored in directory: /root/.cache/pip/wheels/b6/42/21/575eb221b00c86d1e4ca0b8e6916df1b9948f30383680cde14\n",
            "  Building wheel for hdijupyterutils (setup.py) ... \u001b[?25l\u001b[?25hdone\n",
            "  Created wheel for hdijupyterutils: filename=hdijupyterutils-0.15.0-cp36-none-any.whl size=7667 sha256=986db8d368ed3a0c7c1f8dfab6489c6ec90feeb9ac49c64e8e5dc50402040f2a\n",
            "  Stored in directory: /root/.cache/pip/wheels/7e/f0/ad/29b0902eb1384bf2691d6baa61f2cfce35f2370058e8c732cc\n",
            "  Building wheel for autovizwidget (setup.py) ... \u001b[?25l\u001b[?25hdone\n",
            "  Created wheel for autovizwidget: filename=autovizwidget-0.15.0-cp36-none-any.whl size=14547 sha256=d432ded48fcb1bc1ef6df2edf9f9c05979e31a77c3206d692d68c9664e240dac\n",
            "  Stored in directory: /root/.cache/pip/wheels/c8/09/b3/7851bdad56450e74338735e062864eb8f74fea8517d31f9d0b\n",
            "  Building wheel for pykerberos (setup.py) ... \u001b[?25l\u001b[?25hdone\n",
            "  Created wheel for pykerberos: filename=pykerberos-1.2.1-cp36-cp36m-linux_x86_64.whl size=68618 sha256=6ad4c2fd159871d109eaf837b1c47573f4353ffe414976a67109fa8b3504a2dd\n",
            "  Stored in directory: /root/.cache/pip/wheels/c7/a7/07/d414c22754acf5822ccce48b41822142974ec103057c8305e7\n",
            "Successfully built sparkmagic hdijupyterutils autovizwidget pykerberos\n",
            "Installing collected packages: nose, mock, hdijupyterutils, autovizwidget, cryptography, pykerberos, requests-kerberos, sparkmagic\n",
            "Successfully installed autovizwidget-0.15.0 cryptography-2.9.2 hdijupyterutils-0.15.0 mock-4.0.2 nose-1.3.7 pykerberos-1.2.1 requests-kerberos-0.12.0 sparkmagic-0.15.0\n",
            "Collecting pyspark\n",
            "\u001b[?25l  Downloading https://files.pythonhosted.org/packages/9a/5a/271c416c1c2185b6cb0151b29a91fff6fcaed80173c8584ff6d20e46b465/pyspark-2.4.5.tar.gz (217.8MB)\n",
            "\u001b[K     |████████████████████████████████| 217.8MB 24kB/s \n",
            "\u001b[?25hCollecting py4j==0.10.7\n",
            "\u001b[?25l  Downloading https://files.pythonhosted.org/packages/e3/53/c737818eb9a7dc32a7cd4f1396e787bd94200c3997c72c1dbe028587bd76/py4j-0.10.7-py2.py3-none-any.whl (197kB)\n",
            "\u001b[K     |████████████████████████████████| 204kB 46.0MB/s \n",
            "\u001b[?25hBuilding wheels for collected packages: pyspark\n",
            "  Building wheel for pyspark (setup.py) ... \u001b[?25l\u001b[?25hdone\n",
            "  Created wheel for pyspark: filename=pyspark-2.4.5-py2.py3-none-any.whl size=218257927 sha256=210c271e48e3fef09a58e4f3699305f0a8d131397aa71145834477dd71be7b79\n",
            "  Stored in directory: /root/.cache/pip/wheels/bf/db/04/61d66a5939364e756eb1c1be4ec5bdce6e04047fc7929a3c3c\n",
            "Successfully built pyspark\n",
            "Installing collected packages: py4j, pyspark\n",
            "Successfully installed py4j-0.10.7 pyspark-2.4.5\n",
            "Requirement already satisfied: pyspark in /usr/local/lib/python3.6/dist-packages (2.4.5)\n",
            "Requirement already satisfied: py4j==0.10.7 in /usr/local/lib/python3.6/dist-packages (from pyspark) (0.10.7)\n",
            "Requirement already satisfied: seaborn in /usr/local/lib/python3.6/dist-packages (0.10.1)\n",
            "Requirement already satisfied: pandas>=0.22.0 in /usr/local/lib/python3.6/dist-packages (from seaborn) (1.0.3)\n",
            "Requirement already satisfied: matplotlib>=2.1.2 in /usr/local/lib/python3.6/dist-packages (from seaborn) (3.2.1)\n",
            "Requirement already satisfied: scipy>=1.0.1 in /usr/local/lib/python3.6/dist-packages (from seaborn) (1.4.1)\n",
            "Requirement already satisfied: numpy>=1.13.3 in /usr/local/lib/python3.6/dist-packages (from seaborn) (1.18.3)\n",
            "Requirement already satisfied: pytz>=2017.2 in /usr/local/lib/python3.6/dist-packages (from pandas>=0.22.0->seaborn) (2018.9)\n",
            "Requirement already satisfied: python-dateutil>=2.6.1 in /usr/local/lib/python3.6/dist-packages (from pandas>=0.22.0->seaborn) (2.8.1)\n",
            "Requirement already satisfied: cycler>=0.10 in /usr/local/lib/python3.6/dist-packages (from matplotlib>=2.1.2->seaborn) (0.10.0)\n",
            "Requirement already satisfied: pyparsing!=2.0.4,!=2.1.2,!=2.1.6,>=2.0.1 in /usr/local/lib/python3.6/dist-packages (from matplotlib>=2.1.2->seaborn) (2.4.7)\n",
            "Requirement already satisfied: kiwisolver>=1.0.1 in /usr/local/lib/python3.6/dist-packages (from matplotlib>=2.1.2->seaborn) (1.2.0)\n",
            "Requirement already satisfied: six>=1.5 in /usr/local/lib/python3.6/dist-packages (from python-dateutil>=2.6.1->pandas>=0.22.0->seaborn) (1.12.0)\n",
            "Requirement already satisfied: plotly in /usr/local/lib/python3.6/dist-packages (4.4.1)\n",
            "Requirement already satisfied: six in /usr/local/lib/python3.6/dist-packages (from plotly) (1.12.0)\n",
            "Requirement already satisfied: retrying>=1.3.3 in /usr/local/lib/python3.6/dist-packages (from plotly) (1.3.3)\n",
            "Requirement already satisfied: imageio in /usr/local/lib/python3.6/dist-packages (2.4.1)\n",
            "Requirement already satisfied: numpy in /usr/local/lib/python3.6/dist-packages (from imageio) (1.18.3)\n",
            "Requirement already satisfied: pillow in /usr/local/lib/python3.6/dist-packages (from imageio) (7.0.0)\n",
            "Requirement already satisfied: folium in /usr/local/lib/python3.6/dist-packages (0.8.3)\n",
            "Requirement already satisfied: numpy in /usr/local/lib/python3.6/dist-packages (from folium) (1.18.3)\n",
            "Requirement already satisfied: requests in /usr/local/lib/python3.6/dist-packages (from folium) (2.23.0)\n",
            "Requirement already satisfied: branca>=0.3.0 in /usr/local/lib/python3.6/dist-packages (from folium) (0.4.0)\n",
            "Requirement already satisfied: six in /usr/local/lib/python3.6/dist-packages (from folium) (1.12.0)\n",
            "Requirement already satisfied: jinja2 in /usr/local/lib/python3.6/dist-packages (from folium) (2.11.2)\n",
            "Requirement already satisfied: idna<3,>=2.5 in /usr/local/lib/python3.6/dist-packages (from requests->folium) (2.9)\n",
            "Requirement already satisfied: chardet<4,>=3.0.2 in /usr/local/lib/python3.6/dist-packages (from requests->folium) (3.0.4)\n",
            "Requirement already satisfied: urllib3!=1.25.0,!=1.25.1,<1.26,>=1.21.1 in /usr/local/lib/python3.6/dist-packages (from requests->folium) (1.24.3)\n",
            "Requirement already satisfied: certifi>=2017.4.17 in /usr/local/lib/python3.6/dist-packages (from requests->folium) (2020.4.5.1)\n",
            "Requirement already satisfied: MarkupSafe>=0.23 in /usr/local/lib/python3.6/dist-packages (from jinja2->folium) (1.1.1)\n"
          ],
          "name": "stdout"
        }
      ]
    },
    {
      "cell_type": "code",
      "metadata": {
        "id": "pNctzcXRkexY",
        "colab_type": "code",
        "outputId": "84ea3339-0a05-4d9e-f074-67943c0ac16c",
        "colab": {
          "base_uri": "https://localhost:8080/",
          "height": 527
        }
      },
      "source": [
        "!apt update\n",
        "!apt install gcc python-dev libkrb5-dev"
      ],
      "execution_count": 5,
      "outputs": [
        {
          "output_type": "stream",
          "text": [
            "\u001b[33m\r0% [Working]\u001b[0m\r            \rGet:1 https://cloud.r-project.org/bin/linux/ubuntu bionic-cran35/ InRelease [3,626 B]\n",
            "\u001b[33m\r0% [Waiting for headers] [Waiting for headers] [1 InRelease 0 B/3,626 B 0%] [Wa\u001b[0m\u001b[33m\r0% [Waiting for headers] [Waiting for headers] [Waiting for headers] [Waiting f\u001b[0m\r                                                                               \rIgn:2 https://developer.download.nvidia.com/compute/cuda/repos/ubuntu1804/x86_64  InRelease\n",
            "\u001b[33m\r0% [Waiting for headers] [Waiting for headers] [Waiting for headers] [Waiting f\u001b[0m\u001b[33m\r0% [1 InRelease gpgv 3,626 B] [Waiting for headers] [Waiting for headers] [Wait\u001b[0m\r                                                                               \rIgn:3 https://developer.download.nvidia.com/compute/machine-learning/repos/ubuntu1804/x86_64  InRelease\n",
            "\u001b[33m\r0% [1 InRelease gpgv 3,626 B] [Waiting for headers] [Waiting for headers] [Wait\u001b[0m\r                                                                               \rHit:4 http://ppa.launchpad.net/graphics-drivers/ppa/ubuntu bionic InRelease\n",
            "\u001b[33m\r0% [1 InRelease gpgv 3,626 B] [Waiting for headers] [Waiting for headers] [Wait\u001b[0m\r                                                                               \rHit:5 http://archive.ubuntu.com/ubuntu bionic InRelease\n",
            "\u001b[33m\r0% [1 InRelease gpgv 3,626 B] [Waiting for headers] [Waiting for headers] [Conn\u001b[0m\r                                                                               \rGet:6 http://security.ubuntu.com/ubuntu bionic-security InRelease [88.7 kB]\n",
            "\u001b[33m\r0% [1 InRelease gpgv 3,626 B] [Waiting for headers] [6 InRelease 2,587 B/88.7 k\u001b[0m\r                                                                               \rHit:7 https://developer.download.nvidia.com/compute/cuda/repos/ubuntu1804/x86_64  Release\n",
            "\u001b[33m\r0% [1 InRelease gpgv 3,626 B] [Waiting for headers] [6 InRelease 5,483 B/88.7 k\u001b[0m\r                                                                               \rHit:8 https://developer.download.nvidia.com/compute/machine-learning/repos/ubuntu1804/x86_64  Release\n",
            "\u001b[33m\r0% [1 InRelease gpgv 3,626 B] [Waiting for headers] [6 InRelease 11.3 kB/88.7 k\u001b[0m\r                                                                               \rGet:9 http://archive.ubuntu.com/ubuntu bionic-updates InRelease [88.7 kB]\n",
            "Get:10 http://ppa.launchpad.net/marutter/c2d4u3.5/ubuntu bionic InRelease [15.4 kB]\n",
            "Get:11 http://archive.ubuntu.com/ubuntu bionic-backports InRelease [74.6 kB]\n",
            "Get:14 http://ppa.launchpad.net/marutter/c2d4u3.5/ubuntu bionic/main Sources [1,814 kB]\n",
            "Get:15 http://security.ubuntu.com/ubuntu bionic-security/main amd64 Packages [908 kB]\n",
            "Get:16 http://archive.ubuntu.com/ubuntu bionic-updates/universe amd64 Packages [1,376 kB]\n",
            "Get:17 http://security.ubuntu.com/ubuntu bionic-security/universe amd64 Packages [844 kB]\n",
            "Get:18 http://archive.ubuntu.com/ubuntu bionic-updates/main amd64 Packages [1,205 kB]\n",
            "Get:19 http://ppa.launchpad.net/marutter/c2d4u3.5/ubuntu bionic/main amd64 Packages [875 kB]\n",
            "Fetched 7,294 kB in 3s (2,311 kB/s)\n",
            "Reading package lists... Done\n",
            "Building dependency tree       \n",
            "Reading state information... Done\n",
            "31 packages can be upgraded. Run 'apt list --upgradable' to see them.\n",
            "Reading package lists... Done\n",
            "Building dependency tree       \n",
            "Reading state information... Done\n",
            "python-dev is already the newest version (2.7.15~rc1-1).\n",
            "gcc is already the newest version (4:7.4.0-1ubuntu2.3).\n",
            "gcc set to manually installed.\n",
            "libkrb5-dev is already the newest version (1.16-2ubuntu0.1).\n",
            "0 upgraded, 0 newly installed, 0 to remove and 31 not upgraded.\n"
          ],
          "name": "stdout"
        }
      ]
    },
    {
      "cell_type": "code",
      "metadata": {
        "id": "PP28kxLekWG7",
        "colab_type": "code",
        "colab": {}
      },
      "source": [
        "from pyspark.sql import SparkSession\n",
        "from pyspark.sql.types import *\n",
        "import pyspark.sql.functions as F\n",
        "\n",
        "import os\n",
        "\n",
        "spark = SparkSession.builder.appName('ml-project').getOrCreate()\n"
      ],
      "execution_count": 0,
      "outputs": []
    },
    {
      "cell_type": "code",
      "metadata": {
        "id": "7Gm6aXPq1Ulc",
        "colab_type": "code",
        "colab": {}
      },
      "source": [
        "%load_ext sparkmagic.magics"
      ],
      "execution_count": 0,
      "outputs": []
    },
    {
      "cell_type": "code",
      "metadata": {
        "id": "NiGROEgu1gfN",
        "colab_type": "code",
        "colab": {}
      },
      "source": [
        "#graph section\n",
        "import networkx as nx\n",
        "# SQLite RDBMS\n",
        "import sqlite3\n",
        "# Parallel processing\n",
        "# import swifter\n",
        "import pandas as pd\n",
        "# NoSQL DB\n",
        "from pymongo import MongoClient\n",
        "from pymongo.errors import DuplicateKeyError, OperationFailure\n",
        "\n",
        "import os\n",
        "os.environ['SPARK_HOME'] = '/content/spark-2.4.5-bin-hadoop2.7'\n",
        "os.environ[\"JAVA_HOME\"] = \"/usr/lib/jvm/java-8-openjdk-amd64\"\n",
        "import pyspark\n",
        "from pyspark.sql import SQLContext"
      ],
      "execution_count": 0,
      "outputs": []
    },
    {
      "cell_type": "code",
      "metadata": {
        "id": "bF0xipwC1hme",
        "colab_type": "code",
        "colab": {}
      },
      "source": [
        "try:\n",
        "    if(spark == None):\n",
        "        spark = SparkSession.builder.appName('Initial').getOrCreate()\n",
        "        sqlContext=SQLContext(spark)\n",
        "except NameError:\n",
        "    spark = SparkSession.builder.appName('Initial').getOrCreate()\n",
        "    sqlContext=SQLContext(spark)\n"
      ],
      "execution_count": 0,
      "outputs": []
    },
    {
      "cell_type": "markdown",
      "metadata": {
        "id": "eI71AsGRTInB",
        "colab_type": "text"
      },
      "source": [
        "Importing libraries"
      ]
    },
    {
      "cell_type": "code",
      "metadata": {
        "id": "Wjv-3AarQ25A",
        "colab_type": "code",
        "outputId": "d79c9e28-6278-4bb7-b57f-4c353c5daaaf",
        "colab": {
          "base_uri": "https://localhost:8080/",
          "height": 71
        }
      },
      "source": [
        "import numpy as np \n",
        "import pandas as pd \n",
        "import json\n",
        "import matplotlib\n",
        "import matplotlib.pyplot as plt\n",
        "from matplotlib import cm\n",
        "from datetime import datetime\n",
        "import glob\n",
        "import seaborn as sns\n",
        "import re\n",
        "import os"
      ],
      "execution_count": 10,
      "outputs": [
        {
          "output_type": "stream",
          "text": [
            "/usr/local/lib/python3.6/dist-packages/statsmodels/tools/_testing.py:19: FutureWarning: pandas.util.testing is deprecated. Use the functions in the public API at pandas.testing instead.\n",
            "  import pandas.util.testing as tm\n"
          ],
          "name": "stderr"
        }
      ]
    },
    {
      "cell_type": "markdown",
      "metadata": {
        "id": "kVjMo-D6-GZj",
        "colab_type": "text"
      },
      "source": [
        "# **Section 2: Basic Data Wrangling**\n"
      ]
    },
    {
      "cell_type": "code",
      "metadata": {
        "id": "gmNUPv725Fm1",
        "colab_type": "code",
        "colab": {}
      },
      "source": [
        "#Combining the csv's of the past 2 years\n",
        "\n",
        "files = ['/content/2018.csv', '/content/2017.csv']\n",
        "sorted(files)\n",
        "\n",
        "#For loop to combine them into one dataframe\n",
        "\n",
        "all_dataframes = list()\n",
        "\n",
        "for csv in files:\n",
        "  df = pd.read_csv(csv)\n",
        "  all_dataframes.append(df)\n",
        "\n",
        "\n",
        "combined_data_v1 = pd.concat(all_dataframes)"
      ],
      "execution_count": 0,
      "outputs": []
    },
    {
      "cell_type": "code",
      "metadata": {
        "id": "Wx0f0d2S_ip5",
        "colab_type": "code",
        "outputId": "9d232f4f-a118-4e16-d2fc-edea9c44554b",
        "colab": {
          "base_uri": "https://localhost:8080/",
          "height": 609
        }
      },
      "source": [
        "#Drop unneccesary columns\n",
        "\n",
        "combined_data_v2 = combined_data_v1.drop(['CANCELLATION_CODE', 'DIVERTED', 'CARRIER_DELAY', 'WEATHER_DELAY',\n",
        "                                          'NAS_DELAY', 'SECURITY_DELAY', 'LATE_AIRCRAFT_DELAY',\n",
        "                                          'Unnamed: 27'], axis=1)\n",
        "\n",
        "#Drop all rows with NA\n",
        "combined_data_v2 = combined_data_v2.dropna()\n",
        "combined_data_v2 "
      ],
      "execution_count": 12,
      "outputs": [
        {
          "output_type": "execute_result",
          "data": {
            "text/html": [
              "<div>\n",
              "<style scoped>\n",
              "    .dataframe tbody tr th:only-of-type {\n",
              "        vertical-align: middle;\n",
              "    }\n",
              "\n",
              "    .dataframe tbody tr th {\n",
              "        vertical-align: top;\n",
              "    }\n",
              "\n",
              "    .dataframe thead th {\n",
              "        text-align: right;\n",
              "    }\n",
              "</style>\n",
              "<table border=\"1\" class=\"dataframe\">\n",
              "  <thead>\n",
              "    <tr style=\"text-align: right;\">\n",
              "      <th></th>\n",
              "      <th>FL_DATE</th>\n",
              "      <th>OP_CARRIER</th>\n",
              "      <th>OP_CARRIER_FL_NUM</th>\n",
              "      <th>ORIGIN</th>\n",
              "      <th>DEST</th>\n",
              "      <th>CRS_DEP_TIME</th>\n",
              "      <th>DEP_TIME</th>\n",
              "      <th>DEP_DELAY</th>\n",
              "      <th>TAXI_OUT</th>\n",
              "      <th>WHEELS_OFF</th>\n",
              "      <th>WHEELS_ON</th>\n",
              "      <th>TAXI_IN</th>\n",
              "      <th>CRS_ARR_TIME</th>\n",
              "      <th>ARR_TIME</th>\n",
              "      <th>ARR_DELAY</th>\n",
              "      <th>CANCELLED</th>\n",
              "      <th>CRS_ELAPSED_TIME</th>\n",
              "      <th>ACTUAL_ELAPSED_TIME</th>\n",
              "      <th>AIR_TIME</th>\n",
              "      <th>DISTANCE</th>\n",
              "    </tr>\n",
              "  </thead>\n",
              "  <tbody>\n",
              "    <tr>\n",
              "      <th>0</th>\n",
              "      <td>2018-01-01</td>\n",
              "      <td>UA</td>\n",
              "      <td>2429</td>\n",
              "      <td>EWR</td>\n",
              "      <td>DEN</td>\n",
              "      <td>1517</td>\n",
              "      <td>1512.0</td>\n",
              "      <td>-5.0</td>\n",
              "      <td>15.0</td>\n",
              "      <td>1527.0</td>\n",
              "      <td>1712.0</td>\n",
              "      <td>10.0</td>\n",
              "      <td>1745</td>\n",
              "      <td>1722.0</td>\n",
              "      <td>-23.0</td>\n",
              "      <td>0.0</td>\n",
              "      <td>268.0</td>\n",
              "      <td>250.0</td>\n",
              "      <td>225.0</td>\n",
              "      <td>1605.0</td>\n",
              "    </tr>\n",
              "    <tr>\n",
              "      <th>1</th>\n",
              "      <td>2018-01-01</td>\n",
              "      <td>UA</td>\n",
              "      <td>2427</td>\n",
              "      <td>LAS</td>\n",
              "      <td>SFO</td>\n",
              "      <td>1115</td>\n",
              "      <td>1107.0</td>\n",
              "      <td>-8.0</td>\n",
              "      <td>11.0</td>\n",
              "      <td>1118.0</td>\n",
              "      <td>1223.0</td>\n",
              "      <td>7.0</td>\n",
              "      <td>1254</td>\n",
              "      <td>1230.0</td>\n",
              "      <td>-24.0</td>\n",
              "      <td>0.0</td>\n",
              "      <td>99.0</td>\n",
              "      <td>83.0</td>\n",
              "      <td>65.0</td>\n",
              "      <td>414.0</td>\n",
              "    </tr>\n",
              "    <tr>\n",
              "      <th>2</th>\n",
              "      <td>2018-01-01</td>\n",
              "      <td>UA</td>\n",
              "      <td>2426</td>\n",
              "      <td>SNA</td>\n",
              "      <td>DEN</td>\n",
              "      <td>1335</td>\n",
              "      <td>1330.0</td>\n",
              "      <td>-5.0</td>\n",
              "      <td>15.0</td>\n",
              "      <td>1345.0</td>\n",
              "      <td>1631.0</td>\n",
              "      <td>5.0</td>\n",
              "      <td>1649</td>\n",
              "      <td>1636.0</td>\n",
              "      <td>-13.0</td>\n",
              "      <td>0.0</td>\n",
              "      <td>134.0</td>\n",
              "      <td>126.0</td>\n",
              "      <td>106.0</td>\n",
              "      <td>846.0</td>\n",
              "    </tr>\n",
              "    <tr>\n",
              "      <th>3</th>\n",
              "      <td>2018-01-01</td>\n",
              "      <td>UA</td>\n",
              "      <td>2425</td>\n",
              "      <td>RSW</td>\n",
              "      <td>ORD</td>\n",
              "      <td>1546</td>\n",
              "      <td>1552.0</td>\n",
              "      <td>6.0</td>\n",
              "      <td>19.0</td>\n",
              "      <td>1611.0</td>\n",
              "      <td>1748.0</td>\n",
              "      <td>6.0</td>\n",
              "      <td>1756</td>\n",
              "      <td>1754.0</td>\n",
              "      <td>-2.0</td>\n",
              "      <td>0.0</td>\n",
              "      <td>190.0</td>\n",
              "      <td>182.0</td>\n",
              "      <td>157.0</td>\n",
              "      <td>1120.0</td>\n",
              "    </tr>\n",
              "    <tr>\n",
              "      <th>4</th>\n",
              "      <td>2018-01-01</td>\n",
              "      <td>UA</td>\n",
              "      <td>2424</td>\n",
              "      <td>ORD</td>\n",
              "      <td>ALB</td>\n",
              "      <td>630</td>\n",
              "      <td>650.0</td>\n",
              "      <td>20.0</td>\n",
              "      <td>13.0</td>\n",
              "      <td>703.0</td>\n",
              "      <td>926.0</td>\n",
              "      <td>10.0</td>\n",
              "      <td>922</td>\n",
              "      <td>936.0</td>\n",
              "      <td>14.0</td>\n",
              "      <td>0.0</td>\n",
              "      <td>112.0</td>\n",
              "      <td>106.0</td>\n",
              "      <td>83.0</td>\n",
              "      <td>723.0</td>\n",
              "    </tr>\n",
              "    <tr>\n",
              "      <th>...</th>\n",
              "      <td>...</td>\n",
              "      <td>...</td>\n",
              "      <td>...</td>\n",
              "      <td>...</td>\n",
              "      <td>...</td>\n",
              "      <td>...</td>\n",
              "      <td>...</td>\n",
              "      <td>...</td>\n",
              "      <td>...</td>\n",
              "      <td>...</td>\n",
              "      <td>...</td>\n",
              "      <td>...</td>\n",
              "      <td>...</td>\n",
              "      <td>...</td>\n",
              "      <td>...</td>\n",
              "      <td>...</td>\n",
              "      <td>...</td>\n",
              "      <td>...</td>\n",
              "      <td>...</td>\n",
              "      <td>...</td>\n",
              "    </tr>\n",
              "    <tr>\n",
              "      <th>5674616</th>\n",
              "      <td>2017-12-31</td>\n",
              "      <td>UA</td>\n",
              "      <td>2421</td>\n",
              "      <td>IAH</td>\n",
              "      <td>LAS</td>\n",
              "      <td>750</td>\n",
              "      <td>744.0</td>\n",
              "      <td>-6.0</td>\n",
              "      <td>14.0</td>\n",
              "      <td>758.0</td>\n",
              "      <td>849.0</td>\n",
              "      <td>4.0</td>\n",
              "      <td>916</td>\n",
              "      <td>853.0</td>\n",
              "      <td>-23.0</td>\n",
              "      <td>0.0</td>\n",
              "      <td>206.0</td>\n",
              "      <td>189.0</td>\n",
              "      <td>171.0</td>\n",
              "      <td>1222.0</td>\n",
              "    </tr>\n",
              "    <tr>\n",
              "      <th>5674617</th>\n",
              "      <td>2017-12-31</td>\n",
              "      <td>UA</td>\n",
              "      <td>2425</td>\n",
              "      <td>RSW</td>\n",
              "      <td>ORD</td>\n",
              "      <td>1611</td>\n",
              "      <td>1602.0</td>\n",
              "      <td>-9.0</td>\n",
              "      <td>12.0</td>\n",
              "      <td>1614.0</td>\n",
              "      <td>1753.0</td>\n",
              "      <td>12.0</td>\n",
              "      <td>1821</td>\n",
              "      <td>1805.0</td>\n",
              "      <td>-16.0</td>\n",
              "      <td>0.0</td>\n",
              "      <td>190.0</td>\n",
              "      <td>183.0</td>\n",
              "      <td>159.0</td>\n",
              "      <td>1120.0</td>\n",
              "    </tr>\n",
              "    <tr>\n",
              "      <th>5674618</th>\n",
              "      <td>2017-12-31</td>\n",
              "      <td>UA</td>\n",
              "      <td>2426</td>\n",
              "      <td>SNA</td>\n",
              "      <td>DEN</td>\n",
              "      <td>1335</td>\n",
              "      <td>1334.0</td>\n",
              "      <td>-1.0</td>\n",
              "      <td>9.0</td>\n",
              "      <td>1343.0</td>\n",
              "      <td>1627.0</td>\n",
              "      <td>10.0</td>\n",
              "      <td>1649</td>\n",
              "      <td>1637.0</td>\n",
              "      <td>-12.0</td>\n",
              "      <td>0.0</td>\n",
              "      <td>134.0</td>\n",
              "      <td>123.0</td>\n",
              "      <td>104.0</td>\n",
              "      <td>846.0</td>\n",
              "    </tr>\n",
              "    <tr>\n",
              "      <th>5674619</th>\n",
              "      <td>2017-12-31</td>\n",
              "      <td>UA</td>\n",
              "      <td>2427</td>\n",
              "      <td>LAS</td>\n",
              "      <td>SFO</td>\n",
              "      <td>1115</td>\n",
              "      <td>1107.0</td>\n",
              "      <td>-8.0</td>\n",
              "      <td>11.0</td>\n",
              "      <td>1118.0</td>\n",
              "      <td>1224.0</td>\n",
              "      <td>15.0</td>\n",
              "      <td>1254</td>\n",
              "      <td>1239.0</td>\n",
              "      <td>-15.0</td>\n",
              "      <td>0.0</td>\n",
              "      <td>99.0</td>\n",
              "      <td>92.0</td>\n",
              "      <td>66.0</td>\n",
              "      <td>414.0</td>\n",
              "    </tr>\n",
              "    <tr>\n",
              "      <th>5674620</th>\n",
              "      <td>2017-12-31</td>\n",
              "      <td>UA</td>\n",
              "      <td>2429</td>\n",
              "      <td>EWR</td>\n",
              "      <td>DEN</td>\n",
              "      <td>1510</td>\n",
              "      <td>1612.0</td>\n",
              "      <td>62.0</td>\n",
              "      <td>28.0</td>\n",
              "      <td>1640.0</td>\n",
              "      <td>1827.0</td>\n",
              "      <td>11.0</td>\n",
              "      <td>1740</td>\n",
              "      <td>1838.0</td>\n",
              "      <td>58.0</td>\n",
              "      <td>0.0</td>\n",
              "      <td>270.0</td>\n",
              "      <td>266.0</td>\n",
              "      <td>227.0</td>\n",
              "      <td>1605.0</td>\n",
              "    </tr>\n",
              "  </tbody>\n",
              "</table>\n",
              "<p>12651227 rows × 20 columns</p>\n",
              "</div>"
            ],
            "text/plain": [
              "            FL_DATE OP_CARRIER  ...  AIR_TIME DISTANCE\n",
              "0        2018-01-01         UA  ...     225.0   1605.0\n",
              "1        2018-01-01         UA  ...      65.0    414.0\n",
              "2        2018-01-01         UA  ...     106.0    846.0\n",
              "3        2018-01-01         UA  ...     157.0   1120.0\n",
              "4        2018-01-01         UA  ...      83.0    723.0\n",
              "...             ...        ...  ...       ...      ...\n",
              "5674616  2017-12-31         UA  ...     171.0   1222.0\n",
              "5674617  2017-12-31         UA  ...     159.0   1120.0\n",
              "5674618  2017-12-31         UA  ...     104.0    846.0\n",
              "5674619  2017-12-31         UA  ...      66.0    414.0\n",
              "5674620  2017-12-31         UA  ...     227.0   1605.0\n",
              "\n",
              "[12651227 rows x 20 columns]"
            ]
          },
          "metadata": {
            "tags": []
          },
          "execution_count": 12
        }
      ]
    },
    {
      "cell_type": "markdown",
      "metadata": {
        "id": "359Rh00r343H",
        "colab_type": "text"
      },
      "source": [
        "# **Section 3: Exploratory Data Analysis (EDA)**"
      ]
    },
    {
      "cell_type": "markdown",
      "metadata": {
        "id": "DZ96w4FtR2jp",
        "colab_type": "text"
      },
      "source": [
        "##3.1 Summary Statistics for Departure and Arrival Delay\n"
      ]
    },
    {
      "cell_type": "code",
      "metadata": {
        "id": "szVws_WRSC7o",
        "colab_type": "code",
        "outputId": "8722c896-5b31-4590-851c-5092edbb712d",
        "colab": {
          "base_uri": "https://localhost:8080/",
          "height": 238
        }
      },
      "source": [
        "#Getting summary statistics\n",
        "dep_max = combined_data_v2['DEP_DELAY'].max()\n",
        "dep_min = combined_data_v2['DEP_DELAY'].min()\n",
        "dep_mean = combined_data_v2['DEP_DELAY'].mean()\n",
        "dep_mode = combined_data_v2['DEP_DELAY'].mode()\n",
        "dep_sd = combined_data_v2['DEP_DELAY'].std()\n",
        "dep_md = combined_data_v2['DEP_DELAY'].median()\n",
        "\n",
        "arr_max = combined_data_v2['ARR_DELAY'].max()\n",
        "arr_min = combined_data_v2['ARR_DELAY'].min()\n",
        "arr_mean = combined_data_v2['ARR_DELAY'].mean()\n",
        "arr_mode = combined_data_v2['ARR_DELAY'].mode()\n",
        "arr_sd = combined_data_v2['ARR_DELAY'].std()\n",
        "arr_md = combined_data_v2['ARR_DELAY'].median()\n",
        "\n",
        "print(\"Departure Delay\")\n",
        "print(\"Max: \", dep_max)\n",
        "print(\"Min: \", dep_min)\n",
        "print(\"Mean: \", dep_mean)\n",
        "#print(dep_mode)\n",
        "print(\"SD: \", dep_sd)\n",
        "print(\"Median: \", dep_md)\n",
        "\n",
        "print(\" \")\n",
        "print(\"Arrival Delay\")\n",
        "print(\"Max: \", arr_max)\n",
        "print(\"Min: \", arr_min)\n",
        "print(\"Mean: \", arr_mean)\n",
        "#print(arr_mode)\n",
        "print(\"SD: \", arr_sd)\n",
        "print(\"Median: \", arr_md)\n"
      ],
      "execution_count": 13,
      "outputs": [
        {
          "output_type": "stream",
          "text": [
            "Departure Delay\n",
            "Max:  2710.0\n",
            "Min:  -234.0\n",
            "Mean:  9.79530104076071\n",
            "SD:  44.20649780980616\n",
            "Median:  -2.0\n",
            " \n",
            "Arrival Delay\n",
            "Max:  2692.0\n",
            "Min:  -238.0\n",
            "Mean:  4.734051645741555\n",
            "SD:  46.46996969784483\n",
            "Median:  -6.0\n"
          ],
          "name": "stdout"
        }
      ]
    },
    {
      "cell_type": "markdown",
      "metadata": {
        "id": "0l1fMNNE47eH",
        "colab_type": "text"
      },
      "source": [
        "## 3.2: Find how extent of delay is the distributed among flights "
      ]
    },
    {
      "cell_type": "code",
      "metadata": {
        "id": "_e_vI70Jbmj6",
        "colab_type": "code",
        "outputId": "63cd50f1-1211-441f-d01e-36a9107c3509",
        "colab": {
          "base_uri": "https://localhost:8080/",
          "height": 102
        }
      },
      "source": [
        "#Function that classifies delay into 5 sections\n",
        "def classify(num):\n",
        "  if (num < 0):\n",
        "    if (num < -30):\n",
        "      return ('Early: > 30 mins') \n",
        "    else:\n",
        "      return ('Early: < 30 mins')\n",
        "  else:\n",
        "    if (num < 30):\n",
        "      return ('Late: < 30 mins')\n",
        "    elif (num < 250):\n",
        "      return ('Late: < 5 hours')\n",
        "    else:\n",
        "      return ('Late: > 5 hours')\n",
        "\n",
        "\n",
        "#Creating new column for delay group\n",
        "group_arr_df = combined_data_v2[['ORIGIN', 'DEST', 'ARR_DELAY']]\n",
        "group_arr_df['Delay Amount'] = group_arr_df['ARR_DELAY'].apply(lambda x: classify(x))\n"
      ],
      "execution_count": 14,
      "outputs": [
        {
          "output_type": "stream",
          "text": [
            "/usr/local/lib/python3.6/dist-packages/ipykernel_launcher.py:18: SettingWithCopyWarning: \n",
            "A value is trying to be set on a copy of a slice from a DataFrame.\n",
            "Try using .loc[row_indexer,col_indexer] = value instead\n",
            "\n",
            "See the caveats in the documentation: https://pandas.pydata.org/pandas-docs/stable/user_guide/indexing.html#returning-a-view-versus-a-copy\n"
          ],
          "name": "stderr"
        }
      ]
    },
    {
      "cell_type": "code",
      "metadata": {
        "id": "REX1vsEpg1B8",
        "colab_type": "code",
        "outputId": "cfc5856b-b412-45ab-dbd7-bb7fdc48244a",
        "colab": {
          "base_uri": "https://localhost:8080/",
          "height": 745
        }
      },
      "source": [
        "#Plotting Pie Chart\n",
        "import matplotlib.pyplot as plt\n",
        "\n",
        "group_arr_count = pd.DataFrame({'Count' : group_arr_df.groupby([ \"Delay Amount\"] ).size()}).reset_index()\n",
        "\n",
        "total = group_arr_count['Count'].sum()\n",
        "group_arr_count['Percent'] = group_arr_count['Count'].apply(lambda x: (x / total) * 100) \n",
        "group_arr_count.sort_values('Count', ascending=True)\n",
        "\n",
        "# Pie chart\n",
        "labels = group_arr_count['Delay Amount']\n",
        "sizes = group_arr_count['Percent']\n",
        "#colors\n",
        "#colors = ['#ff9999','#66b3ff','#99ff99','#ffcc99']\n",
        "#explsion\n",
        "explode = (0.05,0.05,0.05,0.05, 0.5)\n",
        "\n",
        "\n",
        "fig1, ax1 = plt.subplots(figsize=(10, 10))\n",
        "wedges, texts, autotexts = ax1.pie(sizes, autopct='%1.1f%%', startangle=90)\n",
        "\n",
        "#draw circle\n",
        "centre_circle = plt.Circle((0,0),0.70,fc='white')\n",
        "fig = plt.gcf()\n",
        "fig.gca().add_artist(centre_circle)\n",
        "\n",
        "ax1.legend(wedges, labels,\n",
        "          title=\"Delay Amount\",\n",
        "          loc=\"center left\",\n",
        "          bbox_to_anchor=(1, 0, 0.5, 1))\n",
        "\n",
        "# Equal aspect ratio ensures that pie is drawn as a circle\n",
        "ax1.axis('equal')  \n",
        "plt.tight_layout()\n",
        "\n",
        "plt.setp(texts, size=8, weight=\"bold\")\n",
        "\n",
        "ax1.set_title(\"Distribution of Arrival Delays\")\n",
        "\n",
        "plt.show()"
      ],
      "execution_count": 15,
      "outputs": [
        {
          "output_type": "display_data",
          "data": {
            "image/png": "[encoded data removed]",
            "text/plain": [
              "<Figure size 720x720 with 1 Axes>"
            ]
          },
          "metadata": {
            "tags": []
          }
        }
      ]
    },
    {
      "cell_type": "markdown",
      "metadata": {
        "id": "PhqaMDgH4KGT",
        "colab_type": "text"
      },
      "source": [
        "##3.3 Top 10 Most Popular Origin Airports "
      ]
    },
    {
      "cell_type": "code",
      "metadata": {
        "id": "60Q5njPEfyoI",
        "colab_type": "code",
        "outputId": "108bdc7f-fa33-40c6-d6c5-2da38e49b64d",
        "colab": {
          "base_uri": "https://localhost:8080/",
          "height": 359
        }
      },
      "source": [
        "#Grouping by origin destination pair\n",
        "OD_pairs = pd.DataFrame({'Count' : combined_data_v2.groupby([ \"ORIGIN\", \"DEST\"] ).size()}).reset_index()\n",
        "top_OD_pairs = OD_pairs.sort_values('Count', ascending=False).head(10)\n",
        "top_OD_pairs"
      ],
      "execution_count": 16,
      "outputs": [
        {
          "output_type": "execute_result",
          "data": {
            "text/html": [
              "<div>\n",
              "<style scoped>\n",
              "    .dataframe tbody tr th:only-of-type {\n",
              "        vertical-align: middle;\n",
              "    }\n",
              "\n",
              "    .dataframe tbody tr th {\n",
              "        vertical-align: top;\n",
              "    }\n",
              "\n",
              "    .dataframe thead th {\n",
              "        text-align: right;\n",
              "    }\n",
              "</style>\n",
              "<table border=\"1\" class=\"dataframe\">\n",
              "  <thead>\n",
              "    <tr style=\"text-align: right;\">\n",
              "      <th></th>\n",
              "      <th>ORIGIN</th>\n",
              "      <th>DEST</th>\n",
              "      <th>Count</th>\n",
              "    </tr>\n",
              "  </thead>\n",
              "  <tbody>\n",
              "    <tr>\n",
              "      <th>5710</th>\n",
              "      <td>SFO</td>\n",
              "      <td>LAX</td>\n",
              "      <td>29998</td>\n",
              "    </tr>\n",
              "    <tr>\n",
              "      <th>3230</th>\n",
              "      <td>LAX</td>\n",
              "      <td>SFO</td>\n",
              "      <td>29744</td>\n",
              "    </tr>\n",
              "    <tr>\n",
              "      <th>2942</th>\n",
              "      <td>JFK</td>\n",
              "      <td>LAX</td>\n",
              "      <td>25229</td>\n",
              "    </tr>\n",
              "    <tr>\n",
              "      <th>3186</th>\n",
              "      <td>LAX</td>\n",
              "      <td>JFK</td>\n",
              "      <td>25201</td>\n",
              "    </tr>\n",
              "    <tr>\n",
              "      <th>3346</th>\n",
              "      <td>LGA</td>\n",
              "      <td>ORD</td>\n",
              "      <td>24691</td>\n",
              "    </tr>\n",
              "    <tr>\n",
              "      <th>4426</th>\n",
              "      <td>ORD</td>\n",
              "      <td>LGA</td>\n",
              "      <td>24491</td>\n",
              "    </tr>\n",
              "    <tr>\n",
              "      <th>3188</th>\n",
              "      <td>LAX</td>\n",
              "      <td>LAS</td>\n",
              "      <td>22849</td>\n",
              "    </tr>\n",
              "    <tr>\n",
              "      <th>3075</th>\n",
              "      <td>LAS</td>\n",
              "      <td>LAX</td>\n",
              "      <td>22828</td>\n",
              "    </tr>\n",
              "    <tr>\n",
              "      <th>2444</th>\n",
              "      <td>HNL</td>\n",
              "      <td>OGG</td>\n",
              "      <td>19773</td>\n",
              "    </tr>\n",
              "    <tr>\n",
              "      <th>4228</th>\n",
              "      <td>OGG</td>\n",
              "      <td>HNL</td>\n",
              "      <td>19752</td>\n",
              "    </tr>\n",
              "  </tbody>\n",
              "</table>\n",
              "</div>"
            ],
            "text/plain": [
              "     ORIGIN DEST  Count\n",
              "5710    SFO  LAX  29998\n",
              "3230    LAX  SFO  29744\n",
              "2942    JFK  LAX  25229\n",
              "3186    LAX  JFK  25201\n",
              "3346    LGA  ORD  24691\n",
              "4426    ORD  LGA  24491\n",
              "3188    LAX  LAS  22849\n",
              "3075    LAS  LAX  22828\n",
              "2444    HNL  OGG  19773\n",
              "4228    OGG  HNL  19752"
            ]
          },
          "metadata": {
            "tags": []
          },
          "execution_count": 16
        }
      ]
    },
    {
      "cell_type": "markdown",
      "metadata": {
        "id": "0czu5PhH6VXZ",
        "colab_type": "text"
      },
      "source": [
        "##3.4 Top Origins and Destinations"
      ]
    },
    {
      "cell_type": "code",
      "metadata": {
        "id": "sPSoKRuWsPK_",
        "colab_type": "code",
        "outputId": "f32b080f-5322-4317-c191-d51a11def25b",
        "colab": {
          "base_uri": "https://localhost:8080/",
          "height": 458
        }
      },
      "source": [
        "#Group by Origin and Group by Destination\n",
        "top_origins = pd.DataFrame({'Count' : combined_data_v2.groupby([\"ORIGIN\"] ).size()}).reset_index().sort_values('Count', ascending=False).head(10)\n",
        "top_dest = pd.DataFrame({'Count' : combined_data_v2.groupby([\"DEST\"] ).size()}).reset_index().sort_values('Count', ascending=False).head(10)\n",
        "\n",
        "\n",
        "#Merging on airport so that for each airport we see how many incoming/outgoing flights there are\n",
        "top_airports = pd.merge(top_origins, top_dest, how='inner', left_on='ORIGIN', right_on='DEST',)\n",
        "top_airports = top_airports.drop('DEST', axis=1)\n",
        "top_airports = top_airports.rename(columns={'Count_x': 'Origin_Count', 'Count_y': 'Dest_Count'})\n",
        "top_airports['Difference'] = top_airports['Origin_Count'] - top_airports['Dest_Count']\n",
        "\n",
        "#Renaming Columns\n",
        "top_origins = top_origins.rename(columns={'ORIGIN': 'Airport'})\n",
        "top_dest = top_dest.rename(columns={'DEST': 'Airport'})\n",
        "\n",
        "#Defining if origin or destination\n",
        "top_origins['Type'] = 'Origin'\n",
        "top_dest['Type'] = 'Destination'\n",
        "\n",
        "airports_df = pd.concat([top_origins, top_dest])\n",
        "\n",
        "#Plotting bar plot\n",
        "import seaborn as sns\n",
        "\n",
        "sns.set(style=\"whitegrid\")\n",
        "\n",
        "# Draw a nested barplot to show survival for class and sex\n",
        "g = sns.catplot(x=\"Airport\", y=\"Count\", hue=\"Type\", data=airports_df,\n",
        "                height=6, kind=\"bar\", palette=\"muted\", aspect=2)\n",
        "g.set_ylabels(\"Count\")\n",
        "g.fig.suptitle(\"Count of incoming/outgoing flights for top 10 busiest airports\")\n"
      ],
      "execution_count": 17,
      "outputs": [
        {
          "output_type": "execute_result",
          "data": {
            "text/plain": [
              "Text(0.5, 0.98, 'Count of incoming/outgoing flights for top 10 busiest airports')"
            ]
          },
          "metadata": {
            "tags": []
          },
          "execution_count": 17
        },
        {
          "output_type": "display_data",
          "data": {
            "image/png": "[encoded data removed]",
            "text/plain": [
              "<Figure size 967.225x432 with 1 Axes>"
            ]
          },
          "metadata": {
            "tags": []
          }
        }
      ]
    },
    {
      "cell_type": "markdown",
      "metadata": {
        "id": "WMiSzjNu6f-d",
        "colab_type": "text"
      },
      "source": [
        "##3.5 OD Pairs with Highest/Lowest Average Delay\n",
        "\n"
      ]
    },
    {
      "cell_type": "code",
      "metadata": {
        "id": "jefGqwLs_gYS",
        "colab_type": "code",
        "outputId": "323bc8ca-991c-43e3-8ddf-88c8adafac04",
        "colab": {
          "base_uri": "https://localhost:8080/",
          "height": 669
        }
      },
      "source": [
        "#Group by both origin and destination and getting average delay for that flight\n",
        "OD_pairs_delay = pd.DataFrame({'avg_delay' : combined_data_v2.groupby([ \"ORIGIN\", \"DEST\"] )['ARR_DELAY'].mean(), \n",
        "                               'count' : combined_data_v2.groupby([ \"ORIGIN\", \"DEST\"] ).size()}).reset_index()\n",
        "OD_pairs_delay_filter = OD_pairs_delay[OD_pairs_delay['count'] >= 48]\n",
        "OD_pairs_delay_filter.sort_values('avg_delay', ascending=False).head(20)\n",
        "OD_pairs_delay_filter.sort_values('avg_delay', ascending=True).head(20)\n"
      ],
      "execution_count": 18,
      "outputs": [
        {
          "output_type": "execute_result",
          "data": {
            "text/html": [
              "<div>\n",
              "<style scoped>\n",
              "    .dataframe tbody tr th:only-of-type {\n",
              "        vertical-align: middle;\n",
              "    }\n",
              "\n",
              "    .dataframe tbody tr th {\n",
              "        vertical-align: top;\n",
              "    }\n",
              "\n",
              "    .dataframe thead th {\n",
              "        text-align: right;\n",
              "    }\n",
              "</style>\n",
              "<table border=\"1\" class=\"dataframe\">\n",
              "  <thead>\n",
              "    <tr style=\"text-align: right;\">\n",
              "      <th></th>\n",
              "      <th>ORIGIN</th>\n",
              "      <th>DEST</th>\n",
              "      <th>avg_delay</th>\n",
              "      <th>count</th>\n",
              "    </tr>\n",
              "  </thead>\n",
              "  <tbody>\n",
              "    <tr>\n",
              "      <th>4303</th>\n",
              "      <td>OMA</td>\n",
              "      <td>SAN</td>\n",
              "      <td>-35.323108</td>\n",
              "      <td>489</td>\n",
              "    </tr>\n",
              "    <tr>\n",
              "      <th>5348</th>\n",
              "      <td>SAN</td>\n",
              "      <td>OMA</td>\n",
              "      <td>-26.506122</td>\n",
              "      <td>490</td>\n",
              "    </tr>\n",
              "    <tr>\n",
              "      <th>6109</th>\n",
              "      <td>STT</td>\n",
              "      <td>BOS</td>\n",
              "      <td>-25.130435</td>\n",
              "      <td>69</td>\n",
              "    </tr>\n",
              "    <tr>\n",
              "      <th>4605</th>\n",
              "      <td>PDX</td>\n",
              "      <td>KOA</td>\n",
              "      <td>-19.163317</td>\n",
              "      <td>398</td>\n",
              "    </tr>\n",
              "    <tr>\n",
              "      <th>3021</th>\n",
              "      <td>LAS</td>\n",
              "      <td>ATW</td>\n",
              "      <td>-18.707547</td>\n",
              "      <td>106</td>\n",
              "    </tr>\n",
              "    <tr>\n",
              "      <th>2617</th>\n",
              "      <td>IAD</td>\n",
              "      <td>SLC</td>\n",
              "      <td>-18.514463</td>\n",
              "      <td>484</td>\n",
              "    </tr>\n",
              "    <tr>\n",
              "      <th>3405</th>\n",
              "      <td>LIT</td>\n",
              "      <td>DCA</td>\n",
              "      <td>-17.917293</td>\n",
              "      <td>266</td>\n",
              "    </tr>\n",
              "    <tr>\n",
              "      <th>942</th>\n",
              "      <td>CID</td>\n",
              "      <td>MCO</td>\n",
              "      <td>-17.916667</td>\n",
              "      <td>48</td>\n",
              "    </tr>\n",
              "    <tr>\n",
              "      <th>6106</th>\n",
              "      <td>STS</td>\n",
              "      <td>SAN</td>\n",
              "      <td>-17.834951</td>\n",
              "      <td>206</td>\n",
              "    </tr>\n",
              "    <tr>\n",
              "      <th>2950</th>\n",
              "      <td>JFK</td>\n",
              "      <td>ONT</td>\n",
              "      <td>-17.711864</td>\n",
              "      <td>118</td>\n",
              "    </tr>\n",
              "    <tr>\n",
              "      <th>115</th>\n",
              "      <td>ANC</td>\n",
              "      <td>OGG</td>\n",
              "      <td>-17.256944</td>\n",
              "      <td>144</td>\n",
              "    </tr>\n",
              "    <tr>\n",
              "      <th>4929</th>\n",
              "      <td>PIE</td>\n",
              "      <td>PBG</td>\n",
              "      <td>-15.271028</td>\n",
              "      <td>107</td>\n",
              "    </tr>\n",
              "    <tr>\n",
              "      <th>3833</th>\n",
              "      <td>MKE</td>\n",
              "      <td>PDX</td>\n",
              "      <td>-15.207792</td>\n",
              "      <td>154</td>\n",
              "    </tr>\n",
              "    <tr>\n",
              "      <th>4225</th>\n",
              "      <td>OGG</td>\n",
              "      <td>BLI</td>\n",
              "      <td>-15.047904</td>\n",
              "      <td>167</td>\n",
              "    </tr>\n",
              "    <tr>\n",
              "      <th>4926</th>\n",
              "      <td>PIE</td>\n",
              "      <td>OGS</td>\n",
              "      <td>-14.816327</td>\n",
              "      <td>49</td>\n",
              "    </tr>\n",
              "    <tr>\n",
              "      <th>2503</th>\n",
              "      <td>HOU</td>\n",
              "      <td>SDF</td>\n",
              "      <td>-14.766667</td>\n",
              "      <td>90</td>\n",
              "    </tr>\n",
              "    <tr>\n",
              "      <th>1444</th>\n",
              "      <td>DCA</td>\n",
              "      <td>SEA</td>\n",
              "      <td>-14.716759</td>\n",
              "      <td>1444</td>\n",
              "    </tr>\n",
              "    <tr>\n",
              "      <th>4566</th>\n",
              "      <td>PBI</td>\n",
              "      <td>IAH</td>\n",
              "      <td>-14.626087</td>\n",
              "      <td>345</td>\n",
              "    </tr>\n",
              "    <tr>\n",
              "      <th>1938</th>\n",
              "      <td>EAR</td>\n",
              "      <td>DEN</td>\n",
              "      <td>-14.613065</td>\n",
              "      <td>199</td>\n",
              "    </tr>\n",
              "    <tr>\n",
              "      <th>3389</th>\n",
              "      <td>LIH</td>\n",
              "      <td>DEN</td>\n",
              "      <td>-14.580247</td>\n",
              "      <td>405</td>\n",
              "    </tr>\n",
              "  </tbody>\n",
              "</table>\n",
              "</div>"
            ],
            "text/plain": [
              "     ORIGIN DEST  avg_delay  count\n",
              "4303    OMA  SAN -35.323108    489\n",
              "5348    SAN  OMA -26.506122    490\n",
              "6109    STT  BOS -25.130435     69\n",
              "4605    PDX  KOA -19.163317    398\n",
              "3021    LAS  ATW -18.707547    106\n",
              "2617    IAD  SLC -18.514463    484\n",
              "3405    LIT  DCA -17.917293    266\n",
              "942     CID  MCO -17.916667     48\n",
              "6106    STS  SAN -17.834951    206\n",
              "2950    JFK  ONT -17.711864    118\n",
              "115     ANC  OGG -17.256944    144\n",
              "4929    PIE  PBG -15.271028    107\n",
              "3833    MKE  PDX -15.207792    154\n",
              "4225    OGG  BLI -15.047904    167\n",
              "4926    PIE  OGS -14.816327     49\n",
              "2503    HOU  SDF -14.766667     90\n",
              "1444    DCA  SEA -14.716759   1444\n",
              "4566    PBI  IAH -14.626087    345\n",
              "1938    EAR  DEN -14.613065    199\n",
              "3389    LIH  DEN -14.580247    405"
            ]
          },
          "metadata": {
            "tags": []
          },
          "execution_count": 18
        }
      ]
    },
    {
      "cell_type": "markdown",
      "metadata": {
        "id": "bgXZYxt66kl5",
        "colab_type": "text"
      },
      "source": [
        "Calculating average delay and the weekdays for later use in modeling section"
      ]
    },
    {
      "cell_type": "code",
      "metadata": {
        "id": "3OZmBySrrnxD",
        "colab_type": "code",
        "outputId": "27089133-3b1a-4e41-ba6b-a4b38835fc47",
        "colab": {
          "base_uri": "https://localhost:8080/",
          "height": 607
        }
      },
      "source": [
        "#Calculating baseline values of average delay for each airline\n",
        "airline_delay_df = pd.DataFrame({'avg_delay' : combined_data_v2.groupby([ \"OP_CARRIER\"] )['ARR_DELAY'].mean()}).reset_index()\n",
        "airline_delay_df\n"
      ],
      "execution_count": 19,
      "outputs": [
        {
          "output_type": "execute_result",
          "data": {
            "text/html": [
              "<div>\n",
              "<style scoped>\n",
              "    .dataframe tbody tr th:only-of-type {\n",
              "        vertical-align: middle;\n",
              "    }\n",
              "\n",
              "    .dataframe tbody tr th {\n",
              "        vertical-align: top;\n",
              "    }\n",
              "\n",
              "    .dataframe thead th {\n",
              "        text-align: right;\n",
              "    }\n",
              "</style>\n",
              "<table border=\"1\" class=\"dataframe\">\n",
              "  <thead>\n",
              "    <tr style=\"text-align: right;\">\n",
              "      <th></th>\n",
              "      <th>OP_CARRIER</th>\n",
              "      <th>avg_delay</th>\n",
              "    </tr>\n",
              "  </thead>\n",
              "  <tbody>\n",
              "    <tr>\n",
              "      <th>0</th>\n",
              "      <td>9E</td>\n",
              "      <td>4.658430</td>\n",
              "    </tr>\n",
              "    <tr>\n",
              "      <th>1</th>\n",
              "      <td>AA</td>\n",
              "      <td>4.649097</td>\n",
              "    </tr>\n",
              "    <tr>\n",
              "      <th>2</th>\n",
              "      <td>AS</td>\n",
              "      <td>-0.015064</td>\n",
              "    </tr>\n",
              "    <tr>\n",
              "      <th>3</th>\n",
              "      <td>B6</td>\n",
              "      <td>11.208002</td>\n",
              "    </tr>\n",
              "    <tr>\n",
              "      <th>4</th>\n",
              "      <td>DL</td>\n",
              "      <td>-0.184080</td>\n",
              "    </tr>\n",
              "    <tr>\n",
              "      <th>5</th>\n",
              "      <td>EV</td>\n",
              "      <td>8.316839</td>\n",
              "    </tr>\n",
              "    <tr>\n",
              "      <th>6</th>\n",
              "      <td>F9</td>\n",
              "      <td>10.248651</td>\n",
              "    </tr>\n",
              "    <tr>\n",
              "      <th>7</th>\n",
              "      <td>G4</td>\n",
              "      <td>9.983518</td>\n",
              "    </tr>\n",
              "    <tr>\n",
              "      <th>8</th>\n",
              "      <td>HA</td>\n",
              "      <td>1.367174</td>\n",
              "    </tr>\n",
              "    <tr>\n",
              "      <th>9</th>\n",
              "      <td>MQ</td>\n",
              "      <td>5.357280</td>\n",
              "    </tr>\n",
              "    <tr>\n",
              "      <th>10</th>\n",
              "      <td>NK</td>\n",
              "      <td>5.362691</td>\n",
              "    </tr>\n",
              "    <tr>\n",
              "      <th>11</th>\n",
              "      <td>OH</td>\n",
              "      <td>8.237351</td>\n",
              "    </tr>\n",
              "    <tr>\n",
              "      <th>12</th>\n",
              "      <td>OO</td>\n",
              "      <td>7.062432</td>\n",
              "    </tr>\n",
              "    <tr>\n",
              "      <th>13</th>\n",
              "      <td>UA</td>\n",
              "      <td>3.814712</td>\n",
              "    </tr>\n",
              "    <tr>\n",
              "      <th>14</th>\n",
              "      <td>VX</td>\n",
              "      <td>9.288444</td>\n",
              "    </tr>\n",
              "    <tr>\n",
              "      <th>15</th>\n",
              "      <td>WN</td>\n",
              "      <td>4.780842</td>\n",
              "    </tr>\n",
              "    <tr>\n",
              "      <th>16</th>\n",
              "      <td>YV</td>\n",
              "      <td>8.853066</td>\n",
              "    </tr>\n",
              "    <tr>\n",
              "      <th>17</th>\n",
              "      <td>YX</td>\n",
              "      <td>3.076668</td>\n",
              "    </tr>\n",
              "  </tbody>\n",
              "</table>\n",
              "</div>"
            ],
            "text/plain": [
              "   OP_CARRIER  avg_delay\n",
              "0          9E   4.658430\n",
              "1          AA   4.649097\n",
              "2          AS  -0.015064\n",
              "3          B6  11.208002\n",
              "4          DL  -0.184080\n",
              "5          EV   8.316839\n",
              "6          F9  10.248651\n",
              "7          G4   9.983518\n",
              "8          HA   1.367174\n",
              "9          MQ   5.357280\n",
              "10         NK   5.362691\n",
              "11         OH   8.237351\n",
              "12         OO   7.062432\n",
              "13         UA   3.814712\n",
              "14         VX   9.288444\n",
              "15         WN   4.780842\n",
              "16         YV   8.853066\n",
              "17         YX   3.076668"
            ]
          },
          "metadata": {
            "tags": []
          },
          "execution_count": 19
        }
      ]
    },
    {
      "cell_type": "code",
      "metadata": {
        "id": "zxaC5roif1pj",
        "colab_type": "code",
        "colab": {}
      },
      "source": [
        "#Merging the above df with the main df\n",
        "combined_data_v2 = pd.merge(combined_data_v2, airline_delay_df, how='inner', on='OP_CARRIER')"
      ],
      "execution_count": 0,
      "outputs": []
    },
    {
      "cell_type": "code",
      "metadata": {
        "id": "KRQ4R2LMSMXZ",
        "colab_type": "code",
        "colab": {}
      },
      "source": [
        "#Converting FL_DATE from string to datetime and extracting the week day \n",
        "combined_data_v2['FL_DATE']= pd.to_datetime(combined_data_v2['FL_DATE'])\n",
        "combined_data_v2['flight_weekday']= combined_data_v2['FL_DATE'].apply(lambda x: x.weekday() + 1)\n"
      ],
      "execution_count": 0,
      "outputs": []
    },
    {
      "cell_type": "markdown",
      "metadata": {
        "id": "UqYX4DTi6sIH",
        "colab_type": "text"
      },
      "source": [
        "## 3.6 Correlation Analysis"
      ]
    },
    {
      "cell_type": "code",
      "metadata": {
        "id": "u3D9NiKUq1UN",
        "colab_type": "code",
        "colab": {}
      },
      "source": [
        "#Calculating correlation\n",
        "correlation_data =  combined_data_v2\n",
        "corr = correlation_data.corr()                                  "
      ],
      "execution_count": 0,
      "outputs": []
    },
    {
      "cell_type": "code",
      "metadata": {
        "id": "AbKaQOZbrESO",
        "colab_type": "code",
        "outputId": "853341ea-4549-4b95-ccf2-98cb574a6acd",
        "colab": {
          "base_uri": "https://localhost:8080/",
          "height": 678
        }
      },
      "source": [
        "#Plotting Correlation\n",
        "import seaborn as sns\n",
        "import matplotlib.pyplot as plt\n",
        "%matplotlib inline\n",
        "\n",
        "\n",
        "# Generate a mask for the upper triangle\n",
        "mask = np.triu(np.ones_like(corr, dtype=np.bool))\n",
        "\n",
        "# Set up the matplotlib figure\n",
        "f, ax = plt.subplots(figsize=(11, 9))\n",
        "\n",
        "# Generate a custom diverging colormap\n",
        "cmap = sns.diverging_palette(220, 10, as_cmap=True)\n",
        "\n",
        "# Draw the heatmap with the mask and correct aspect ratio\n",
        "sns.heatmap(corr, mask=mask, cmap=cmap, vmax=.3, center=0,\n",
        "            square=True, linewidths=.5, cbar_kws={\"shrink\": .5})"
      ],
      "execution_count": 23,
      "outputs": [
        {
          "output_type": "execute_result",
          "data": {
            "text/plain": [
              "<matplotlib.axes._subplots.AxesSubplot at 0x7ff453519278>"
            ]
          },
          "metadata": {
            "tags": []
          },
          "execution_count": 23
        },
        {
          "output_type": "display_data",
          "data": {
            "image/png": "[encoded data removed]",
            "text/plain": [
              "<Figure size 792x648 with 2 Axes>"
            ]
          },
          "metadata": {
            "tags": [],
            "needs_background": "light"
          }
        }
      ]
    },
    {
      "cell_type": "markdown",
      "metadata": {
        "id": "bHEJkbXT6x7Z",
        "colab_type": "text"
      },
      "source": [
        "## 3.7 Time Series Analysis and Frequency of Flights"
      ]
    },
    {
      "cell_type": "code",
      "metadata": {
        "id": "vTfvjEDYxD9j",
        "colab_type": "code",
        "outputId": "b264a7ca-ed2c-47b1-c026-d0ab2e6298be",
        "colab": {
          "base_uri": "https://localhost:8080/",
          "height": 669
        }
      },
      "source": [
        "import datetime\n",
        "\n",
        "#Converting the flight date to just the year and the month\n",
        "correlation_data['year_month'] = correlation_data['FL_DATE'].values.astype('datetime64[M]')\n",
        "\n",
        "grouped_date_df = pd.DataFrame({'count' : correlation_data.groupby([\"year_month\"] ).size() }).reset_index()\n",
        "grouped_date_df.sort_values('count', ascending=True).head(20)\n"
      ],
      "execution_count": 24,
      "outputs": [
        {
          "output_type": "execute_result",
          "data": {
            "text/html": [
              "<div>\n",
              "<style scoped>\n",
              "    .dataframe tbody tr th:only-of-type {\n",
              "        vertical-align: middle;\n",
              "    }\n",
              "\n",
              "    .dataframe tbody tr th {\n",
              "        vertical-align: top;\n",
              "    }\n",
              "\n",
              "    .dataframe thead th {\n",
              "        text-align: right;\n",
              "    }\n",
              "</style>\n",
              "<table border=\"1\" class=\"dataframe\">\n",
              "  <thead>\n",
              "    <tr style=\"text-align: right;\">\n",
              "      <th></th>\n",
              "      <th>year_month</th>\n",
              "      <th>count</th>\n",
              "    </tr>\n",
              "  </thead>\n",
              "  <tbody>\n",
              "    <tr>\n",
              "      <th>1</th>\n",
              "      <td>2017-02-01</td>\n",
              "      <td>403225</td>\n",
              "    </tr>\n",
              "    <tr>\n",
              "      <th>0</th>\n",
              "      <td>2017-01-01</td>\n",
              "      <td>439645</td>\n",
              "    </tr>\n",
              "    <tr>\n",
              "      <th>8</th>\n",
              "      <td>2017-09-01</td>\n",
              "      <td>442593</td>\n",
              "    </tr>\n",
              "    <tr>\n",
              "      <th>10</th>\n",
              "      <td>2017-11-01</td>\n",
              "      <td>452169</td>\n",
              "    </tr>\n",
              "    <tr>\n",
              "      <th>11</th>\n",
              "      <td>2017-12-01</td>\n",
              "      <td>457892</td>\n",
              "    </tr>\n",
              "    <tr>\n",
              "      <th>3</th>\n",
              "      <td>2017-04-01</td>\n",
              "      <td>459976</td>\n",
              "    </tr>\n",
              "    <tr>\n",
              "      <th>9</th>\n",
              "      <td>2017-10-01</td>\n",
              "      <td>475752</td>\n",
              "    </tr>\n",
              "    <tr>\n",
              "      <th>2</th>\n",
              "      <td>2017-03-01</td>\n",
              "      <td>479154</td>\n",
              "    </tr>\n",
              "    <tr>\n",
              "      <th>4</th>\n",
              "      <td>2017-05-01</td>\n",
              "      <td>481501</td>\n",
              "    </tr>\n",
              "    <tr>\n",
              "      <th>5</th>\n",
              "      <td>2017-06-01</td>\n",
              "      <td>487581</td>\n",
              "    </tr>\n",
              "    <tr>\n",
              "      <th>7</th>\n",
              "      <td>2017-08-01</td>\n",
              "      <td>498163</td>\n",
              "    </tr>\n",
              "    <tr>\n",
              "      <th>6</th>\n",
              "      <td>2017-07-01</td>\n",
              "      <td>501759</td>\n",
              "    </tr>\n",
              "    <tr>\n",
              "      <th>13</th>\n",
              "      <td>2018-02-01</td>\n",
              "      <td>509642</td>\n",
              "    </tr>\n",
              "    <tr>\n",
              "      <th>12</th>\n",
              "      <td>2018-01-01</td>\n",
              "      <td>551022</td>\n",
              "    </tr>\n",
              "    <tr>\n",
              "      <th>20</th>\n",
              "      <td>2018-09-01</td>\n",
              "      <td>576250</td>\n",
              "    </tr>\n",
              "    <tr>\n",
              "      <th>22</th>\n",
              "      <td>2018-11-01</td>\n",
              "      <td>578747</td>\n",
              "    </tr>\n",
              "    <tr>\n",
              "      <th>23</th>\n",
              "      <td>2018-12-01</td>\n",
              "      <td>585737</td>\n",
              "    </tr>\n",
              "    <tr>\n",
              "      <th>15</th>\n",
              "      <td>2018-04-01</td>\n",
              "      <td>587626</td>\n",
              "    </tr>\n",
              "    <tr>\n",
              "      <th>14</th>\n",
              "      <td>2018-03-01</td>\n",
              "      <td>592733</td>\n",
              "    </tr>\n",
              "    <tr>\n",
              "      <th>16</th>\n",
              "      <td>2018-05-01</td>\n",
              "      <td>606693</td>\n",
              "    </tr>\n",
              "  </tbody>\n",
              "</table>\n",
              "</div>"
            ],
            "text/plain": [
              "   year_month   count\n",
              "1  2017-02-01  403225\n",
              "0  2017-01-01  439645\n",
              "8  2017-09-01  442593\n",
              "10 2017-11-01  452169\n",
              "11 2017-12-01  457892\n",
              "3  2017-04-01  459976\n",
              "9  2017-10-01  475752\n",
              "2  2017-03-01  479154\n",
              "4  2017-05-01  481501\n",
              "5  2017-06-01  487581\n",
              "7  2017-08-01  498163\n",
              "6  2017-07-01  501759\n",
              "13 2018-02-01  509642\n",
              "12 2018-01-01  551022\n",
              "20 2018-09-01  576250\n",
              "22 2018-11-01  578747\n",
              "23 2018-12-01  585737\n",
              "15 2018-04-01  587626\n",
              "14 2018-03-01  592733\n",
              "16 2018-05-01  606693"
            ]
          },
          "metadata": {
            "tags": []
          },
          "execution_count": 24
        }
      ]
    },
    {
      "cell_type": "code",
      "metadata": {
        "id": "Up8i6DKyxjCN",
        "colab_type": "code",
        "outputId": "691c7081-6cd0-4420-8d54-ea234f083944",
        "colab": {
          "base_uri": "https://localhost:8080/",
          "height": 534
        }
      },
      "source": [
        "#Plotting as a time series\n",
        "\n",
        "import seaborn as sns\n",
        "sns.set(style=\"darkgrid\")\n",
        "\n",
        "# Plot the responses for different events and regions\n",
        "sns.set(rc={'figure.figsize':(17.7,8.27)})\n",
        "\n",
        "sns.lineplot(x=\"year_month\", y=\"count\",\n",
        "             data=grouped_date_df)"
      ],
      "execution_count": 25,
      "outputs": [
        {
          "output_type": "execute_result",
          "data": {
            "text/plain": [
              "<matplotlib.axes._subplots.AxesSubplot at 0x7ff451355198>"
            ]
          },
          "metadata": {
            "tags": []
          },
          "execution_count": 25
        },
        {
          "output_type": "display_data",
          "data": {
            "image/png": "[encoded data removed]",
            "text/plain": [
              "<Figure size 1274.4x595.44 with 1 Axes>"
            ]
          },
          "metadata": {
            "tags": []
          }
        }
      ]
    },
    {
      "cell_type": "markdown",
      "metadata": {
        "id": "qpZfIH1j7Eqx",
        "colab_type": "text"
      },
      "source": [
        "Filtering the data to only include flights from the top 4 airlines and then plotting as time series to see their respective frequencies."
      ]
    },
    {
      "cell_type": "code",
      "metadata": {
        "id": "Lb0eh-RQKfyg",
        "colab_type": "code",
        "outputId": "2c991e03-9d08-4f28-aafa-58217915b2f2",
        "colab": {
          "base_uri": "https://localhost:8080/",
          "height": 419
        }
      },
      "source": [
        "#Only getting the flights from the 4 specified airlines\n",
        "grouped_date_airline_df = pd.DataFrame({'count' : correlation_data.groupby([\"year_month\", \"OP_CARRIER\"] ).size() }).reset_index()\n",
        "grouped_date_airline_df.sort_values('count', ascending=True).head(20)\n",
        "grouped_date_airline_df = grouped_date_airline_df[grouped_date_airline_df['OP_CARRIER'].isin(['AA', 'DL', 'UA', 'WN'])]\n",
        "grouped_date_airline_df"
      ],
      "execution_count": 26,
      "outputs": [
        {
          "output_type": "execute_result",
          "data": {
            "text/html": [
              "<div>\n",
              "<style scoped>\n",
              "    .dataframe tbody tr th:only-of-type {\n",
              "        vertical-align: middle;\n",
              "    }\n",
              "\n",
              "    .dataframe tbody tr th {\n",
              "        vertical-align: top;\n",
              "    }\n",
              "\n",
              "    .dataframe thead th {\n",
              "        text-align: right;\n",
              "    }\n",
              "</style>\n",
              "<table border=\"1\" class=\"dataframe\">\n",
              "  <thead>\n",
              "    <tr style=\"text-align: right;\">\n",
              "      <th></th>\n",
              "      <th>year_month</th>\n",
              "      <th>OP_CARRIER</th>\n",
              "      <th>count</th>\n",
              "    </tr>\n",
              "  </thead>\n",
              "  <tbody>\n",
              "    <tr>\n",
              "      <th>0</th>\n",
              "      <td>2017-01-01</td>\n",
              "      <td>AA</td>\n",
              "      <td>71947</td>\n",
              "    </tr>\n",
              "    <tr>\n",
              "      <th>3</th>\n",
              "      <td>2017-01-01</td>\n",
              "      <td>DL</td>\n",
              "      <td>68842</td>\n",
              "    </tr>\n",
              "    <tr>\n",
              "      <th>9</th>\n",
              "      <td>2017-01-01</td>\n",
              "      <td>UA</td>\n",
              "      <td>42056</td>\n",
              "    </tr>\n",
              "    <tr>\n",
              "      <th>11</th>\n",
              "      <td>2017-01-01</td>\n",
              "      <td>WN</td>\n",
              "      <td>105212</td>\n",
              "    </tr>\n",
              "    <tr>\n",
              "      <th>12</th>\n",
              "      <td>2017-02-01</td>\n",
              "      <td>AA</td>\n",
              "      <td>66217</td>\n",
              "    </tr>\n",
              "    <tr>\n",
              "      <th>...</th>\n",
              "      <td>...</td>\n",
              "      <td>...</td>\n",
              "      <td>...</td>\n",
              "    </tr>\n",
              "    <tr>\n",
              "      <th>331</th>\n",
              "      <td>2018-11-01</td>\n",
              "      <td>WN</td>\n",
              "      <td>111136</td>\n",
              "    </tr>\n",
              "    <tr>\n",
              "      <th>335</th>\n",
              "      <td>2018-12-01</td>\n",
              "      <td>AA</td>\n",
              "      <td>74551</td>\n",
              "    </tr>\n",
              "    <tr>\n",
              "      <th>338</th>\n",
              "      <td>2018-12-01</td>\n",
              "      <td>DL</td>\n",
              "      <td>74847</td>\n",
              "    </tr>\n",
              "    <tr>\n",
              "      <th>347</th>\n",
              "      <td>2018-12-01</td>\n",
              "      <td>UA</td>\n",
              "      <td>51336</td>\n",
              "    </tr>\n",
              "    <tr>\n",
              "      <th>348</th>\n",
              "      <td>2018-12-01</td>\n",
              "      <td>WN</td>\n",
              "      <td>111910</td>\n",
              "    </tr>\n",
              "  </tbody>\n",
              "</table>\n",
              "<p>96 rows × 3 columns</p>\n",
              "</div>"
            ],
            "text/plain": [
              "    year_month OP_CARRIER   count\n",
              "0   2017-01-01         AA   71947\n",
              "3   2017-01-01         DL   68842\n",
              "9   2017-01-01         UA   42056\n",
              "11  2017-01-01         WN  105212\n",
              "12  2017-02-01         AA   66217\n",
              "..         ...        ...     ...\n",
              "331 2018-11-01         WN  111136\n",
              "335 2018-12-01         AA   74551\n",
              "338 2018-12-01         DL   74847\n",
              "347 2018-12-01         UA   51336\n",
              "348 2018-12-01         WN  111910\n",
              "\n",
              "[96 rows x 3 columns]"
            ]
          },
          "metadata": {
            "tags": []
          },
          "execution_count": 26
        }
      ]
    },
    {
      "cell_type": "code",
      "metadata": {
        "id": "ZICSEznIL7TR",
        "colab_type": "code",
        "outputId": "9cba2bfd-ce5f-4e66-99f6-9285893bdd45",
        "colab": {
          "base_uri": "https://localhost:8080/",
          "height": 534
        }
      },
      "source": [
        "import seaborn as sns\n",
        "sns.set(style=\"whitegrid\")\n",
        "\n",
        "# Plot the responses for different events and regions\n",
        "sns.set(rc={'figure.figsize':(17.7,8.27)})\n",
        "\n",
        "sns.lineplot(x=\"year_month\", y=\"count\", hue='OP_CARRIER',\n",
        "             data=grouped_date_airline_df)"
      ],
      "execution_count": 27,
      "outputs": [
        {
          "output_type": "execute_result",
          "data": {
            "text/plain": [
              "<matplotlib.axes._subplots.AxesSubplot at 0x7ff45126e438>"
            ]
          },
          "metadata": {
            "tags": []
          },
          "execution_count": 27
        },
        {
          "output_type": "display_data",
          "data": {
            "image/png": "[encoded data removed]",
            "text/plain": [
              "<Figure size 1274.4x595.44 with 1 Axes>"
            ]
          },
          "metadata": {
            "tags": []
          }
        }
      ]
    },
    {
      "cell_type": "markdown",
      "metadata": {
        "id": "ObchQIozrSfG",
        "colab_type": "text"
      },
      "source": [
        "# Section 4: Modeling"
      ]
    },
    {
      "cell_type": "markdown",
      "metadata": {
        "id": "GBQtxIX17Ti9",
        "colab_type": "text"
      },
      "source": [
        "## 4.1 One-hot Encoding on Flight Weekday"
      ]
    },
    {
      "cell_type": "code",
      "metadata": {
        "id": "k0q_LuetTJCb",
        "colab_type": "code",
        "outputId": "be004eae-c038-4220-c5e4-538e764f20c6",
        "colab": {
          "base_uri": "https://localhost:8080/",
          "height": 609
        }
      },
      "source": [
        "#One-hot encoding\n",
        "combined_data_v2 = pd.get_dummies(combined_data_v2, columns=['flight_weekday'])\n",
        "combined_data_v2"
      ],
      "execution_count": 28,
      "outputs": [
        {
          "output_type": "execute_result",
          "data": {
            "text/html": [
              "<div>\n",
              "<style scoped>\n",
              "    .dataframe tbody tr th:only-of-type {\n",
              "        vertical-align: middle;\n",
              "    }\n",
              "\n",
              "    .dataframe tbody tr th {\n",
              "        vertical-align: top;\n",
              "    }\n",
              "\n",
              "    .dataframe thead th {\n",
              "        text-align: right;\n",
              "    }\n",
              "</style>\n",
              "<table border=\"1\" class=\"dataframe\">\n",
              "  <thead>\n",
              "    <tr style=\"text-align: right;\">\n",
              "      <th></th>\n",
              "      <th>FL_DATE</th>\n",
              "      <th>OP_CARRIER</th>\n",
              "      <th>OP_CARRIER_FL_NUM</th>\n",
              "      <th>ORIGIN</th>\n",
              "      <th>DEST</th>\n",
              "      <th>CRS_DEP_TIME</th>\n",
              "      <th>DEP_TIME</th>\n",
              "      <th>DEP_DELAY</th>\n",
              "      <th>TAXI_OUT</th>\n",
              "      <th>WHEELS_OFF</th>\n",
              "      <th>WHEELS_ON</th>\n",
              "      <th>TAXI_IN</th>\n",
              "      <th>CRS_ARR_TIME</th>\n",
              "      <th>ARR_TIME</th>\n",
              "      <th>ARR_DELAY</th>\n",
              "      <th>CANCELLED</th>\n",
              "      <th>CRS_ELAPSED_TIME</th>\n",
              "      <th>ACTUAL_ELAPSED_TIME</th>\n",
              "      <th>AIR_TIME</th>\n",
              "      <th>DISTANCE</th>\n",
              "      <th>avg_delay</th>\n",
              "      <th>year_month</th>\n",
              "      <th>flight_weekday_1</th>\n",
              "      <th>flight_weekday_2</th>\n",
              "      <th>flight_weekday_3</th>\n",
              "      <th>flight_weekday_4</th>\n",
              "      <th>flight_weekday_5</th>\n",
              "      <th>flight_weekday_6</th>\n",
              "      <th>flight_weekday_7</th>\n",
              "    </tr>\n",
              "  </thead>\n",
              "  <tbody>\n",
              "    <tr>\n",
              "      <th>0</th>\n",
              "      <td>2018-01-01</td>\n",
              "      <td>UA</td>\n",
              "      <td>2429</td>\n",
              "      <td>EWR</td>\n",
              "      <td>DEN</td>\n",
              "      <td>1517</td>\n",
              "      <td>1512.0</td>\n",
              "      <td>-5.0</td>\n",
              "      <td>15.0</td>\n",
              "      <td>1527.0</td>\n",
              "      <td>1712.0</td>\n",
              "      <td>10.0</td>\n",
              "      <td>1745</td>\n",
              "      <td>1722.0</td>\n",
              "      <td>-23.0</td>\n",
              "      <td>0.0</td>\n",
              "      <td>268.0</td>\n",
              "      <td>250.0</td>\n",
              "      <td>225.0</td>\n",
              "      <td>1605.0</td>\n",
              "      <td>3.814712</td>\n",
              "      <td>2018-01-01</td>\n",
              "      <td>1</td>\n",
              "      <td>0</td>\n",
              "      <td>0</td>\n",
              "      <td>0</td>\n",
              "      <td>0</td>\n",
              "      <td>0</td>\n",
              "      <td>0</td>\n",
              "    </tr>\n",
              "    <tr>\n",
              "      <th>1</th>\n",
              "      <td>2018-01-01</td>\n",
              "      <td>UA</td>\n",
              "      <td>2427</td>\n",
              "      <td>LAS</td>\n",
              "      <td>SFO</td>\n",
              "      <td>1115</td>\n",
              "      <td>1107.0</td>\n",
              "      <td>-8.0</td>\n",
              "      <td>11.0</td>\n",
              "      <td>1118.0</td>\n",
              "      <td>1223.0</td>\n",
              "      <td>7.0</td>\n",
              "      <td>1254</td>\n",
              "      <td>1230.0</td>\n",
              "      <td>-24.0</td>\n",
              "      <td>0.0</td>\n",
              "      <td>99.0</td>\n",
              "      <td>83.0</td>\n",
              "      <td>65.0</td>\n",
              "      <td>414.0</td>\n",
              "      <td>3.814712</td>\n",
              "      <td>2018-01-01</td>\n",
              "      <td>1</td>\n",
              "      <td>0</td>\n",
              "      <td>0</td>\n",
              "      <td>0</td>\n",
              "      <td>0</td>\n",
              "      <td>0</td>\n",
              "      <td>0</td>\n",
              "    </tr>\n",
              "    <tr>\n",
              "      <th>2</th>\n",
              "      <td>2018-01-01</td>\n",
              "      <td>UA</td>\n",
              "      <td>2426</td>\n",
              "      <td>SNA</td>\n",
              "      <td>DEN</td>\n",
              "      <td>1335</td>\n",
              "      <td>1330.0</td>\n",
              "      <td>-5.0</td>\n",
              "      <td>15.0</td>\n",
              "      <td>1345.0</td>\n",
              "      <td>1631.0</td>\n",
              "      <td>5.0</td>\n",
              "      <td>1649</td>\n",
              "      <td>1636.0</td>\n",
              "      <td>-13.0</td>\n",
              "      <td>0.0</td>\n",
              "      <td>134.0</td>\n",
              "      <td>126.0</td>\n",
              "      <td>106.0</td>\n",
              "      <td>846.0</td>\n",
              "      <td>3.814712</td>\n",
              "      <td>2018-01-01</td>\n",
              "      <td>1</td>\n",
              "      <td>0</td>\n",
              "      <td>0</td>\n",
              "      <td>0</td>\n",
              "      <td>0</td>\n",
              "      <td>0</td>\n",
              "      <td>0</td>\n",
              "    </tr>\n",
              "    <tr>\n",
              "      <th>3</th>\n",
              "      <td>2018-01-01</td>\n",
              "      <td>UA</td>\n",
              "      <td>2425</td>\n",
              "      <td>RSW</td>\n",
              "      <td>ORD</td>\n",
              "      <td>1546</td>\n",
              "      <td>1552.0</td>\n",
              "      <td>6.0</td>\n",
              "      <td>19.0</td>\n",
              "      <td>1611.0</td>\n",
              "      <td>1748.0</td>\n",
              "      <td>6.0</td>\n",
              "      <td>1756</td>\n",
              "      <td>1754.0</td>\n",
              "      <td>-2.0</td>\n",
              "      <td>0.0</td>\n",
              "      <td>190.0</td>\n",
              "      <td>182.0</td>\n",
              "      <td>157.0</td>\n",
              "      <td>1120.0</td>\n",
              "      <td>3.814712</td>\n",
              "      <td>2018-01-01</td>\n",
              "      <td>1</td>\n",
              "      <td>0</td>\n",
              "      <td>0</td>\n",
              "      <td>0</td>\n",
              "      <td>0</td>\n",
              "      <td>0</td>\n",
              "      <td>0</td>\n",
              "    </tr>\n",
              "    <tr>\n",
              "      <th>4</th>\n",
              "      <td>2018-01-01</td>\n",
              "      <td>UA</td>\n",
              "      <td>2424</td>\n",
              "      <td>ORD</td>\n",
              "      <td>ALB</td>\n",
              "      <td>630</td>\n",
              "      <td>650.0</td>\n",
              "      <td>20.0</td>\n",
              "      <td>13.0</td>\n",
              "      <td>703.0</td>\n",
              "      <td>926.0</td>\n",
              "      <td>10.0</td>\n",
              "      <td>922</td>\n",
              "      <td>936.0</td>\n",
              "      <td>14.0</td>\n",
              "      <td>0.0</td>\n",
              "      <td>112.0</td>\n",
              "      <td>106.0</td>\n",
              "      <td>83.0</td>\n",
              "      <td>723.0</td>\n",
              "      <td>3.814712</td>\n",
              "      <td>2018-01-01</td>\n",
              "      <td>1</td>\n",
              "      <td>0</td>\n",
              "      <td>0</td>\n",
              "      <td>0</td>\n",
              "      <td>0</td>\n",
              "      <td>0</td>\n",
              "      <td>0</td>\n",
              "    </tr>\n",
              "    <tr>\n",
              "      <th>...</th>\n",
              "      <td>...</td>\n",
              "      <td>...</td>\n",
              "      <td>...</td>\n",
              "      <td>...</td>\n",
              "      <td>...</td>\n",
              "      <td>...</td>\n",
              "      <td>...</td>\n",
              "      <td>...</td>\n",
              "      <td>...</td>\n",
              "      <td>...</td>\n",
              "      <td>...</td>\n",
              "      <td>...</td>\n",
              "      <td>...</td>\n",
              "      <td>...</td>\n",
              "      <td>...</td>\n",
              "      <td>...</td>\n",
              "      <td>...</td>\n",
              "      <td>...</td>\n",
              "      <td>...</td>\n",
              "      <td>...</td>\n",
              "      <td>...</td>\n",
              "      <td>...</td>\n",
              "      <td>...</td>\n",
              "      <td>...</td>\n",
              "      <td>...</td>\n",
              "      <td>...</td>\n",
              "      <td>...</td>\n",
              "      <td>...</td>\n",
              "      <td>...</td>\n",
              "    </tr>\n",
              "    <tr>\n",
              "      <th>12651222</th>\n",
              "      <td>2017-12-31</td>\n",
              "      <td>DL</td>\n",
              "      <td>2988</td>\n",
              "      <td>SJC</td>\n",
              "      <td>MSP</td>\n",
              "      <td>620</td>\n",
              "      <td>619.0</td>\n",
              "      <td>-1.0</td>\n",
              "      <td>14.0</td>\n",
              "      <td>633.0</td>\n",
              "      <td>1145.0</td>\n",
              "      <td>6.0</td>\n",
              "      <td>1215</td>\n",
              "      <td>1151.0</td>\n",
              "      <td>-24.0</td>\n",
              "      <td>0.0</td>\n",
              "      <td>235.0</td>\n",
              "      <td>212.0</td>\n",
              "      <td>192.0</td>\n",
              "      <td>1575.0</td>\n",
              "      <td>-0.184080</td>\n",
              "      <td>2017-12-01</td>\n",
              "      <td>0</td>\n",
              "      <td>0</td>\n",
              "      <td>0</td>\n",
              "      <td>0</td>\n",
              "      <td>0</td>\n",
              "      <td>0</td>\n",
              "      <td>1</td>\n",
              "    </tr>\n",
              "    <tr>\n",
              "      <th>12651223</th>\n",
              "      <td>2017-12-31</td>\n",
              "      <td>DL</td>\n",
              "      <td>2989</td>\n",
              "      <td>SEA</td>\n",
              "      <td>ORD</td>\n",
              "      <td>1802</td>\n",
              "      <td>1754.0</td>\n",
              "      <td>-8.0</td>\n",
              "      <td>10.0</td>\n",
              "      <td>1804.0</td>\n",
              "      <td>2317.0</td>\n",
              "      <td>6.0</td>\n",
              "      <td>2359</td>\n",
              "      <td>2323.0</td>\n",
              "      <td>-36.0</td>\n",
              "      <td>0.0</td>\n",
              "      <td>237.0</td>\n",
              "      <td>209.0</td>\n",
              "      <td>193.0</td>\n",
              "      <td>1721.0</td>\n",
              "      <td>-0.184080</td>\n",
              "      <td>2017-12-01</td>\n",
              "      <td>0</td>\n",
              "      <td>0</td>\n",
              "      <td>0</td>\n",
              "      <td>0</td>\n",
              "      <td>0</td>\n",
              "      <td>0</td>\n",
              "      <td>1</td>\n",
              "    </tr>\n",
              "    <tr>\n",
              "      <th>12651224</th>\n",
              "      <td>2017-12-31</td>\n",
              "      <td>DL</td>\n",
              "      <td>2990</td>\n",
              "      <td>ATL</td>\n",
              "      <td>DCA</td>\n",
              "      <td>1000</td>\n",
              "      <td>1000.0</td>\n",
              "      <td>0.0</td>\n",
              "      <td>18.0</td>\n",
              "      <td>1018.0</td>\n",
              "      <td>1129.0</td>\n",
              "      <td>3.0</td>\n",
              "      <td>1139</td>\n",
              "      <td>1132.0</td>\n",
              "      <td>-7.0</td>\n",
              "      <td>0.0</td>\n",
              "      <td>99.0</td>\n",
              "      <td>92.0</td>\n",
              "      <td>71.0</td>\n",
              "      <td>547.0</td>\n",
              "      <td>-0.184080</td>\n",
              "      <td>2017-12-01</td>\n",
              "      <td>0</td>\n",
              "      <td>0</td>\n",
              "      <td>0</td>\n",
              "      <td>0</td>\n",
              "      <td>0</td>\n",
              "      <td>0</td>\n",
              "      <td>1</td>\n",
              "    </tr>\n",
              "    <tr>\n",
              "      <th>12651225</th>\n",
              "      <td>2017-12-31</td>\n",
              "      <td>DL</td>\n",
              "      <td>2999</td>\n",
              "      <td>ATL</td>\n",
              "      <td>SYR</td>\n",
              "      <td>908</td>\n",
              "      <td>905.0</td>\n",
              "      <td>-3.0</td>\n",
              "      <td>12.0</td>\n",
              "      <td>917.0</td>\n",
              "      <td>1059.0</td>\n",
              "      <td>9.0</td>\n",
              "      <td>1115</td>\n",
              "      <td>1108.0</td>\n",
              "      <td>-7.0</td>\n",
              "      <td>0.0</td>\n",
              "      <td>127.0</td>\n",
              "      <td>123.0</td>\n",
              "      <td>102.0</td>\n",
              "      <td>794.0</td>\n",
              "      <td>-0.184080</td>\n",
              "      <td>2017-12-01</td>\n",
              "      <td>0</td>\n",
              "      <td>0</td>\n",
              "      <td>0</td>\n",
              "      <td>0</td>\n",
              "      <td>0</td>\n",
              "      <td>0</td>\n",
              "      <td>1</td>\n",
              "    </tr>\n",
              "    <tr>\n",
              "      <th>12651226</th>\n",
              "      <td>2017-12-31</td>\n",
              "      <td>DL</td>\n",
              "      <td>2999</td>\n",
              "      <td>SYR</td>\n",
              "      <td>ATL</td>\n",
              "      <td>1150</td>\n",
              "      <td>1222.0</td>\n",
              "      <td>32.0</td>\n",
              "      <td>10.0</td>\n",
              "      <td>1232.0</td>\n",
              "      <td>1437.0</td>\n",
              "      <td>6.0</td>\n",
              "      <td>1432</td>\n",
              "      <td>1443.0</td>\n",
              "      <td>11.0</td>\n",
              "      <td>0.0</td>\n",
              "      <td>162.0</td>\n",
              "      <td>141.0</td>\n",
              "      <td>125.0</td>\n",
              "      <td>794.0</td>\n",
              "      <td>-0.184080</td>\n",
              "      <td>2017-12-01</td>\n",
              "      <td>0</td>\n",
              "      <td>0</td>\n",
              "      <td>0</td>\n",
              "      <td>0</td>\n",
              "      <td>0</td>\n",
              "      <td>0</td>\n",
              "      <td>1</td>\n",
              "    </tr>\n",
              "  </tbody>\n",
              "</table>\n",
              "<p>12651227 rows × 29 columns</p>\n",
              "</div>"
            ],
            "text/plain": [
              "            FL_DATE OP_CARRIER  ...  flight_weekday_6 flight_weekday_7\n",
              "0        2018-01-01         UA  ...                 0                0\n",
              "1        2018-01-01         UA  ...                 0                0\n",
              "2        2018-01-01         UA  ...                 0                0\n",
              "3        2018-01-01         UA  ...                 0                0\n",
              "4        2018-01-01         UA  ...                 0                0\n",
              "...             ...        ...  ...               ...              ...\n",
              "12651222 2017-12-31         DL  ...                 0                1\n",
              "12651223 2017-12-31         DL  ...                 0                1\n",
              "12651224 2017-12-31         DL  ...                 0                1\n",
              "12651225 2017-12-31         DL  ...                 0                1\n",
              "12651226 2017-12-31         DL  ...                 0                1\n",
              "\n",
              "[12651227 rows x 29 columns]"
            ]
          },
          "metadata": {
            "tags": []
          },
          "execution_count": 28
        }
      ]
    },
    {
      "cell_type": "markdown",
      "metadata": {
        "id": "rhZYo4u17iOe",
        "colab_type": "text"
      },
      "source": [
        "## 4.2 Drop Unneccessary Columns"
      ]
    },
    {
      "cell_type": "code",
      "metadata": {
        "id": "8Wenja05rjn7",
        "colab_type": "code",
        "outputId": "d57b34a0-afe3-44f5-e3a8-866bbcada153",
        "colab": {
          "base_uri": "https://localhost:8080/",
          "height": 439
        }
      },
      "source": [
        "#Dropping non-numeric columns\n",
        " \n",
        "\n",
        "combined_data_v4 = combined_data_v2.drop(['FL_DATE', 'OP_CARRIER_FL_NUM', 'ORIGIN', 'DEST',\n",
        "                                    'CRS_DEP_TIME', 'DEP_TIME', 'WHEELS_OFF', 'WHEELS_ON', 'CRS_ARR_TIME',\n",
        "                                    'CANCELLED'], axis=1).dropna()\n",
        "\n",
        "#combined_data_v4 = combined_data_v3.drop(['ACTUAL_ELAPSED_TIME', 'ARR_TIME', 'TAXI_IN'], axis=1)\n",
        "combined_data_v4\n"
      ],
      "execution_count": 29,
      "outputs": [
        {
          "output_type": "execute_result",
          "data": {
            "text/html": [
              "<div>\n",
              "<style scoped>\n",
              "    .dataframe tbody tr th:only-of-type {\n",
              "        vertical-align: middle;\n",
              "    }\n",
              "\n",
              "    .dataframe tbody tr th {\n",
              "        vertical-align: top;\n",
              "    }\n",
              "\n",
              "    .dataframe thead th {\n",
              "        text-align: right;\n",
              "    }\n",
              "</style>\n",
              "<table border=\"1\" class=\"dataframe\">\n",
              "  <thead>\n",
              "    <tr style=\"text-align: right;\">\n",
              "      <th></th>\n",
              "      <th>OP_CARRIER</th>\n",
              "      <th>DEP_DELAY</th>\n",
              "      <th>TAXI_OUT</th>\n",
              "      <th>TAXI_IN</th>\n",
              "      <th>ARR_TIME</th>\n",
              "      <th>ARR_DELAY</th>\n",
              "      <th>CRS_ELAPSED_TIME</th>\n",
              "      <th>ACTUAL_ELAPSED_TIME</th>\n",
              "      <th>AIR_TIME</th>\n",
              "      <th>DISTANCE</th>\n",
              "      <th>avg_delay</th>\n",
              "      <th>year_month</th>\n",
              "      <th>flight_weekday_1</th>\n",
              "      <th>flight_weekday_2</th>\n",
              "      <th>flight_weekday_3</th>\n",
              "      <th>flight_weekday_4</th>\n",
              "      <th>flight_weekday_5</th>\n",
              "      <th>flight_weekday_6</th>\n",
              "      <th>flight_weekday_7</th>\n",
              "    </tr>\n",
              "  </thead>\n",
              "  <tbody>\n",
              "    <tr>\n",
              "      <th>0</th>\n",
              "      <td>UA</td>\n",
              "      <td>-5.0</td>\n",
              "      <td>15.0</td>\n",
              "      <td>10.0</td>\n",
              "      <td>1722.0</td>\n",
              "      <td>-23.0</td>\n",
              "      <td>268.0</td>\n",
              "      <td>250.0</td>\n",
              "      <td>225.0</td>\n",
              "      <td>1605.0</td>\n",
              "      <td>3.814712</td>\n",
              "      <td>2018-01-01</td>\n",
              "      <td>1</td>\n",
              "      <td>0</td>\n",
              "      <td>0</td>\n",
              "      <td>0</td>\n",
              "      <td>0</td>\n",
              "      <td>0</td>\n",
              "      <td>0</td>\n",
              "    </tr>\n",
              "    <tr>\n",
              "      <th>1</th>\n",
              "      <td>UA</td>\n",
              "      <td>-8.0</td>\n",
              "      <td>11.0</td>\n",
              "      <td>7.0</td>\n",
              "      <td>1230.0</td>\n",
              "      <td>-24.0</td>\n",
              "      <td>99.0</td>\n",
              "      <td>83.0</td>\n",
              "      <td>65.0</td>\n",
              "      <td>414.0</td>\n",
              "      <td>3.814712</td>\n",
              "      <td>2018-01-01</td>\n",
              "      <td>1</td>\n",
              "      <td>0</td>\n",
              "      <td>0</td>\n",
              "      <td>0</td>\n",
              "      <td>0</td>\n",
              "      <td>0</td>\n",
              "      <td>0</td>\n",
              "    </tr>\n",
              "    <tr>\n",
              "      <th>2</th>\n",
              "      <td>UA</td>\n",
              "      <td>-5.0</td>\n",
              "      <td>15.0</td>\n",
              "      <td>5.0</td>\n",
              "      <td>1636.0</td>\n",
              "      <td>-13.0</td>\n",
              "      <td>134.0</td>\n",
              "      <td>126.0</td>\n",
              "      <td>106.0</td>\n",
              "      <td>846.0</td>\n",
              "      <td>3.814712</td>\n",
              "      <td>2018-01-01</td>\n",
              "      <td>1</td>\n",
              "      <td>0</td>\n",
              "      <td>0</td>\n",
              "      <td>0</td>\n",
              "      <td>0</td>\n",
              "      <td>0</td>\n",
              "      <td>0</td>\n",
              "    </tr>\n",
              "    <tr>\n",
              "      <th>3</th>\n",
              "      <td>UA</td>\n",
              "      <td>6.0</td>\n",
              "      <td>19.0</td>\n",
              "      <td>6.0</td>\n",
              "      <td>1754.0</td>\n",
              "      <td>-2.0</td>\n",
              "      <td>190.0</td>\n",
              "      <td>182.0</td>\n",
              "      <td>157.0</td>\n",
              "      <td>1120.0</td>\n",
              "      <td>3.814712</td>\n",
              "      <td>2018-01-01</td>\n",
              "      <td>1</td>\n",
              "      <td>0</td>\n",
              "      <td>0</td>\n",
              "      <td>0</td>\n",
              "      <td>0</td>\n",
              "      <td>0</td>\n",
              "      <td>0</td>\n",
              "    </tr>\n",
              "    <tr>\n",
              "      <th>4</th>\n",
              "      <td>UA</td>\n",
              "      <td>20.0</td>\n",
              "      <td>13.0</td>\n",
              "      <td>10.0</td>\n",
              "      <td>936.0</td>\n",
              "      <td>14.0</td>\n",
              "      <td>112.0</td>\n",
              "      <td>106.0</td>\n",
              "      <td>83.0</td>\n",
              "      <td>723.0</td>\n",
              "      <td>3.814712</td>\n",
              "      <td>2018-01-01</td>\n",
              "      <td>1</td>\n",
              "      <td>0</td>\n",
              "      <td>0</td>\n",
              "      <td>0</td>\n",
              "      <td>0</td>\n",
              "      <td>0</td>\n",
              "      <td>0</td>\n",
              "    </tr>\n",
              "    <tr>\n",
              "      <th>...</th>\n",
              "      <td>...</td>\n",
              "      <td>...</td>\n",
              "      <td>...</td>\n",
              "      <td>...</td>\n",
              "      <td>...</td>\n",
              "      <td>...</td>\n",
              "      <td>...</td>\n",
              "      <td>...</td>\n",
              "      <td>...</td>\n",
              "      <td>...</td>\n",
              "      <td>...</td>\n",
              "      <td>...</td>\n",
              "      <td>...</td>\n",
              "      <td>...</td>\n",
              "      <td>...</td>\n",
              "      <td>...</td>\n",
              "      <td>...</td>\n",
              "      <td>...</td>\n",
              "      <td>...</td>\n",
              "    </tr>\n",
              "    <tr>\n",
              "      <th>12651222</th>\n",
              "      <td>DL</td>\n",
              "      <td>-1.0</td>\n",
              "      <td>14.0</td>\n",
              "      <td>6.0</td>\n",
              "      <td>1151.0</td>\n",
              "      <td>-24.0</td>\n",
              "      <td>235.0</td>\n",
              "      <td>212.0</td>\n",
              "      <td>192.0</td>\n",
              "      <td>1575.0</td>\n",
              "      <td>-0.184080</td>\n",
              "      <td>2017-12-01</td>\n",
              "      <td>0</td>\n",
              "      <td>0</td>\n",
              "      <td>0</td>\n",
              "      <td>0</td>\n",
              "      <td>0</td>\n",
              "      <td>0</td>\n",
              "      <td>1</td>\n",
              "    </tr>\n",
              "    <tr>\n",
              "      <th>12651223</th>\n",
              "      <td>DL</td>\n",
              "      <td>-8.0</td>\n",
              "      <td>10.0</td>\n",
              "      <td>6.0</td>\n",
              "      <td>2323.0</td>\n",
              "      <td>-36.0</td>\n",
              "      <td>237.0</td>\n",
              "      <td>209.0</td>\n",
              "      <td>193.0</td>\n",
              "      <td>1721.0</td>\n",
              "      <td>-0.184080</td>\n",
              "      <td>2017-12-01</td>\n",
              "      <td>0</td>\n",
              "      <td>0</td>\n",
              "      <td>0</td>\n",
              "      <td>0</td>\n",
              "      <td>0</td>\n",
              "      <td>0</td>\n",
              "      <td>1</td>\n",
              "    </tr>\n",
              "    <tr>\n",
              "      <th>12651224</th>\n",
              "      <td>DL</td>\n",
              "      <td>0.0</td>\n",
              "      <td>18.0</td>\n",
              "      <td>3.0</td>\n",
              "      <td>1132.0</td>\n",
              "      <td>-7.0</td>\n",
              "      <td>99.0</td>\n",
              "      <td>92.0</td>\n",
              "      <td>71.0</td>\n",
              "      <td>547.0</td>\n",
              "      <td>-0.184080</td>\n",
              "      <td>2017-12-01</td>\n",
              "      <td>0</td>\n",
              "      <td>0</td>\n",
              "      <td>0</td>\n",
              "      <td>0</td>\n",
              "      <td>0</td>\n",
              "      <td>0</td>\n",
              "      <td>1</td>\n",
              "    </tr>\n",
              "    <tr>\n",
              "      <th>12651225</th>\n",
              "      <td>DL</td>\n",
              "      <td>-3.0</td>\n",
              "      <td>12.0</td>\n",
              "      <td>9.0</td>\n",
              "      <td>1108.0</td>\n",
              "      <td>-7.0</td>\n",
              "      <td>127.0</td>\n",
              "      <td>123.0</td>\n",
              "      <td>102.0</td>\n",
              "      <td>794.0</td>\n",
              "      <td>-0.184080</td>\n",
              "      <td>2017-12-01</td>\n",
              "      <td>0</td>\n",
              "      <td>0</td>\n",
              "      <td>0</td>\n",
              "      <td>0</td>\n",
              "      <td>0</td>\n",
              "      <td>0</td>\n",
              "      <td>1</td>\n",
              "    </tr>\n",
              "    <tr>\n",
              "      <th>12651226</th>\n",
              "      <td>DL</td>\n",
              "      <td>32.0</td>\n",
              "      <td>10.0</td>\n",
              "      <td>6.0</td>\n",
              "      <td>1443.0</td>\n",
              "      <td>11.0</td>\n",
              "      <td>162.0</td>\n",
              "      <td>141.0</td>\n",
              "      <td>125.0</td>\n",
              "      <td>794.0</td>\n",
              "      <td>-0.184080</td>\n",
              "      <td>2017-12-01</td>\n",
              "      <td>0</td>\n",
              "      <td>0</td>\n",
              "      <td>0</td>\n",
              "      <td>0</td>\n",
              "      <td>0</td>\n",
              "      <td>0</td>\n",
              "      <td>1</td>\n",
              "    </tr>\n",
              "  </tbody>\n",
              "</table>\n",
              "<p>12651227 rows × 19 columns</p>\n",
              "</div>"
            ],
            "text/plain": [
              "         OP_CARRIER  DEP_DELAY  ...  flight_weekday_6  flight_weekday_7\n",
              "0                UA       -5.0  ...                 0                 0\n",
              "1                UA       -8.0  ...                 0                 0\n",
              "2                UA       -5.0  ...                 0                 0\n",
              "3                UA        6.0  ...                 0                 0\n",
              "4                UA       20.0  ...                 0                 0\n",
              "...             ...        ...  ...               ...               ...\n",
              "12651222         DL       -1.0  ...                 0                 1\n",
              "12651223         DL       -8.0  ...                 0                 1\n",
              "12651224         DL        0.0  ...                 0                 1\n",
              "12651225         DL       -3.0  ...                 0                 1\n",
              "12651226         DL       32.0  ...                 0                 1\n",
              "\n",
              "[12651227 rows x 19 columns]"
            ]
          },
          "metadata": {
            "tags": []
          },
          "execution_count": 29
        }
      ]
    },
    {
      "cell_type": "markdown",
      "metadata": {
        "id": "TIdLHPq0724o",
        "colab_type": "text"
      },
      "source": [
        "## 4.3 Loading data through Spark"
      ]
    },
    {
      "cell_type": "code",
      "metadata": {
        "id": "1zHBlolZg8ox",
        "colab_type": "code",
        "colab": {}
      },
      "source": [
        "combined_data_v4.to_csv('combined_data.csv')"
      ],
      "execution_count": 0,
      "outputs": []
    },
    {
      "cell_type": "code",
      "metadata": {
        "id": "_UpfgjAs8xmL",
        "colab_type": "code",
        "outputId": "8ab1184d-7949-4133-c94b-1a932a95e31d",
        "colab": {
          "base_uri": "https://localhost:8080/",
          "height": 479
        }
      },
      "source": [
        "flights_sdf = spark.read.csv('combined_data.csv', header = True, inferSchema = True)\n",
        "flights_sdf.show()"
      ],
      "execution_count": 31,
      "outputs": [
        {
          "output_type": "stream",
          "text": [
            "+---+----------+---------+--------+-------+--------+---------+----------------+-------------------+--------+--------+------------------+-------------------+----------------+----------------+----------------+----------------+----------------+----------------+----------------+\n",
            "|_c0|OP_CARRIER|DEP_DELAY|TAXI_OUT|TAXI_IN|ARR_TIME|ARR_DELAY|CRS_ELAPSED_TIME|ACTUAL_ELAPSED_TIME|AIR_TIME|DISTANCE|         avg_delay|         year_month|flight_weekday_1|flight_weekday_2|flight_weekday_3|flight_weekday_4|flight_weekday_5|flight_weekday_6|flight_weekday_7|\n",
            "+---+----------+---------+--------+-------+--------+---------+----------------+-------------------+--------+--------+------------------+-------------------+----------------+----------------+----------------+----------------+----------------+----------------+----------------+\n",
            "|  0|        UA|     -5.0|    15.0|   10.0|  1722.0|    -23.0|           268.0|              250.0|   225.0|  1605.0|3.8147118553644033|2018-01-01 00:00:00|               1|               0|               0|               0|               0|               0|               0|\n",
            "|  1|        UA|     -8.0|    11.0|    7.0|  1230.0|    -24.0|            99.0|               83.0|    65.0|   414.0|3.8147118553644033|2018-01-01 00:00:00|               1|               0|               0|               0|               0|               0|               0|\n",
            "|  2|        UA|     -5.0|    15.0|    5.0|  1636.0|    -13.0|           134.0|              126.0|   106.0|   846.0|3.8147118553644033|2018-01-01 00:00:00|               1|               0|               0|               0|               0|               0|               0|\n",
            "|  3|        UA|      6.0|    19.0|    6.0|  1754.0|     -2.0|           190.0|              182.0|   157.0|  1120.0|3.8147118553644033|2018-01-01 00:00:00|               1|               0|               0|               0|               0|               0|               0|\n",
            "|  4|        UA|     20.0|    13.0|   10.0|   936.0|     14.0|           112.0|              106.0|    83.0|   723.0|3.8147118553644033|2018-01-01 00:00:00|               1|               0|               0|               0|               0|               0|               0|\n",
            "|  5|        UA|      3.0|    15.0|    2.0|     3.0|    -11.0|            93.0|               79.0|    62.0|   416.0|3.8147118553644033|2018-01-01 00:00:00|               1|               0|               0|               0|               0|               0|               0|\n",
            "|  6|        UA|     -3.0|    14.0|    6.0|   900.0|    -16.0|           206.0|              193.0|   173.0|  1222.0|3.8147118553644033|2018-01-01 00:00:00|               1|               0|               0|               0|               0|               0|               0|\n",
            "|  7|        UA|     -6.0|    11.0|    6.0|  1600.0|    -19.0|           115.0|              102.0|    85.0|   692.0|3.8147118553644033|2018-01-01 00:00:00|               1|               0|               0|               0|               0|               0|               0|\n",
            "|  8|        UA|     13.0|    10.0|    9.0|   636.0|     -2.0|           314.0|              299.0|   280.0|  2500.0|3.8147118553644033|2018-01-01 00:00:00|               1|               0|               0|               0|               0|               0|               0|\n",
            "|  9|        UA|     -2.0|    12.0|    8.0|  1756.0|    -17.0|           252.0|              237.0|   217.0|  1482.0|3.8147118553644033|2018-01-01 00:00:00|               1|               0|               0|               0|               0|               0|               0|\n",
            "| 10|        UA|     -5.0|     9.0|    7.0|   631.0|    -16.0|           307.0|              296.0|   280.0|  2434.0|3.8147118553644033|2018-01-01 00:00:00|               1|               0|               0|               0|               0|               0|               0|\n",
            "| 11|        UA|    121.0|    24.0|    8.0|   120.0|    129.0|            72.0|               80.0|    48.0|   316.0|3.8147118553644033|2018-01-01 00:00:00|               1|               0|               0|               0|               0|               0|               0|\n",
            "| 12|        UA|     -3.0|    15.0|    5.0|  1109.0|    -26.0|           370.0|              347.0|   327.0|  2434.0|3.8147118553644033|2018-01-01 00:00:00|               1|               0|               0|               0|               0|               0|               0|\n",
            "| 13|        UA|     11.0|    11.0|    5.0|  1315.0|     -3.0|           154.0|              140.0|   124.0|   746.0|3.8147118553644033|2018-01-01 00:00:00|               1|               0|               0|               0|               0|               0|               0|\n",
            "| 14|        UA|     76.0|    14.0|    5.0|   128.0|     73.0|           121.0|              118.0|    99.0|   763.0|3.8147118553644033|2018-01-01 00:00:00|               1|               0|               0|               0|               0|               0|               0|\n",
            "| 15|        UA|     54.0|    14.0|   22.0|  1025.0|     55.0|           337.0|              338.0|   302.0|  2218.0|3.8147118553644033|2018-01-01 00:00:00|               1|               0|               0|               0|               0|               0|               0|\n",
            "| 16|        UA|     72.0|    16.0|    4.0|  2201.0|     25.0|           386.0|              339.0|   319.0|  2500.0|3.8147118553644033|2018-01-01 00:00:00|               1|               0|               0|               0|               0|               0|               0|\n",
            "| 17|        UA|     47.0|    12.0|    6.0|  1606.0|     29.0|           167.0|              149.0|   131.0|  1068.0|3.8147118553644033|2018-01-01 00:00:00|               1|               0|               0|               0|               0|               0|               0|\n",
            "| 18|        UA|     -6.0|    18.0|    4.0|  1200.0|    -18.0|           218.0|              206.0|   184.0|  1265.0|3.8147118553644033|2018-01-01 00:00:00|               1|               0|               0|               0|               0|               0|               0|\n",
            "| 19|        UA|      9.0|     9.0|    5.0|  1312.0|    -21.0|           122.0|               92.0|    78.0|   631.0|3.8147118553644033|2018-01-01 00:00:00|               1|               0|               0|               0|               0|               0|               0|\n",
            "+---+----------+---------+--------+-------+--------+---------+----------------+-------------------+--------+--------+------------------+-------------------+----------------+----------------+----------------+----------------+----------------+----------------+----------------+\n",
            "only showing top 20 rows\n",
            "\n"
          ],
          "name": "stdout"
        }
      ]
    },
    {
      "cell_type": "markdown",
      "metadata": {
        "id": "6QRifcaZhxde",
        "colab_type": "text"
      },
      "source": [
        "## 4.4 Baseline Predictor: Average Delay depending on Airline"
      ]
    },
    {
      "cell_type": "code",
      "metadata": {
        "id": "UpoaXuFch1_7",
        "colab_type": "code",
        "outputId": "c77c9857-188c-4eba-c0e9-ac966418a2c5",
        "colab": {
          "base_uri": "https://localhost:8080/",
          "height": 51
        }
      },
      "source": [
        "from pyspark.ml.evaluation import RegressionEvaluator\n",
        "\n",
        "#Simply predict using avg_delay column\n",
        "eval_reg_baseline_r2 = RegressionEvaluator(labelCol=\"ARR_DELAY\", predictionCol=\"avg_delay\", metricName=\"r2\")\n",
        "eval_reg_baseline_rmse = RegressionEvaluator(labelCol=\"ARR_DELAY\", predictionCol=\"avg_delay\", metricName=\"rmse\")\n",
        "# train_base, test_base = flights_sdf.randomSplit([0.8, 0.2])\n",
        "print(\"R Squared (R2) = %g\" % eval_reg_baseline_r2.evaluate(flights_sdf))\n",
        "print(\"R Squared (RMSE) = %g\" % eval_reg_baseline_rmse.evaluate(flights_sdf))\n",
        "\n"
      ],
      "execution_count": 32,
      "outputs": [
        {
          "output_type": "stream",
          "text": [
            "R Squared (R2) = 0.00423234\n",
            "R Squared (RMSE) = 46.3715\n"
          ],
          "name": "stdout"
        }
      ]
    },
    {
      "cell_type": "markdown",
      "metadata": {
        "id": "3ZKV-IZn7-5Z",
        "colab_type": "text"
      },
      "source": [
        "## 4.5 Create Vector Assembler and train/test sets"
      ]
    },
    {
      "cell_type": "code",
      "metadata": {
        "id": "ZfEfU5O1TQo_",
        "colab_type": "code",
        "outputId": "9c25771e-ecfa-4516-8859-bf04f9ad376a",
        "colab": {
          "base_uri": "https://localhost:8080/",
          "height": 459
        }
      },
      "source": [
        "#create vector assembler\n",
        "\n",
        "feature_columns = ['DEP_DELAY', 'TAXI_OUT', 'CRS_ELAPSED_TIME', 'DISTANCE', \n",
        "                   'flight_weekday_1', 'flight_weekday_2', 'flight_weekday_3', \n",
        "                   'flight_weekday_4', 'flight_weekday_5', 'flight_weekday_6',\n",
        "                   'flight_weekday_7']\n",
        "from pyspark.ml.feature import VectorAssembler\n",
        "assembler = VectorAssembler(inputCols=feature_columns,outputCol=\"features\")\n",
        "\n",
        "flights_sdf_v2 = assembler.transform(flights_sdf)\n",
        "flights_sdf_v2 = flights_sdf_v2.select(['features', 'ARR_DELAY'])\n",
        "flights_sdf_v2.show()"
      ],
      "execution_count": 33,
      "outputs": [
        {
          "output_type": "stream",
          "text": [
            "+--------------------+---------+\n",
            "|            features|ARR_DELAY|\n",
            "+--------------------+---------+\n",
            "|(11,[0,1,2,3,4],[...|    -23.0|\n",
            "|(11,[0,1,2,3,4],[...|    -24.0|\n",
            "|(11,[0,1,2,3,4],[...|    -13.0|\n",
            "|(11,[0,1,2,3,4],[...|     -2.0|\n",
            "|(11,[0,1,2,3,4],[...|     14.0|\n",
            "|(11,[0,1,2,3,4],[...|    -11.0|\n",
            "|(11,[0,1,2,3,4],[...|    -16.0|\n",
            "|(11,[0,1,2,3,4],[...|    -19.0|\n",
            "|(11,[0,1,2,3,4],[...|     -2.0|\n",
            "|(11,[0,1,2,3,4],[...|    -17.0|\n",
            "|(11,[0,1,2,3,4],[...|    -16.0|\n",
            "|(11,[0,1,2,3,4],[...|    129.0|\n",
            "|(11,[0,1,2,3,4],[...|    -26.0|\n",
            "|(11,[0,1,2,3,4],[...|     -3.0|\n",
            "|(11,[0,1,2,3,4],[...|     73.0|\n",
            "|(11,[0,1,2,3,4],[...|     55.0|\n",
            "|(11,[0,1,2,3,4],[...|     25.0|\n",
            "|(11,[0,1,2,3,4],[...|     29.0|\n",
            "|(11,[0,1,2,3,4],[...|    -18.0|\n",
            "|(11,[0,1,2,3,4],[...|    -21.0|\n",
            "+--------------------+---------+\n",
            "only showing top 20 rows\n",
            "\n"
          ],
          "name": "stdout"
        }
      ]
    },
    {
      "cell_type": "code",
      "metadata": {
        "id": "MyazG_seYRvK",
        "colab_type": "code",
        "colab": {}
      },
      "source": [
        "train, test = flights_sdf_v2.randomSplit([0.8, 0.2])"
      ],
      "execution_count": 0,
      "outputs": []
    },
    {
      "cell_type": "markdown",
      "metadata": {
        "id": "_zpNjd0Rg-Cw",
        "colab_type": "text"
      },
      "source": [
        "## 4.6 Linear Regression w/o Regularization "
      ]
    },
    {
      "cell_type": "code",
      "metadata": {
        "id": "SLtrZl5xhB4M",
        "colab_type": "code",
        "colab": {}
      },
      "source": [
        "from pyspark.ml.regression import LinearRegression\n",
        "\n",
        "#Creating model\n",
        "lreg_v1 = LinearRegression(featuresCol=\"features\", labelCol=\"ARR_DELAY\")\n",
        "lr_model_v1 = lreg_v1.fit(train)"
      ],
      "execution_count": 0,
      "outputs": []
    },
    {
      "cell_type": "code",
      "metadata": {
        "id": "whndGfEaik1h",
        "colab_type": "code",
        "outputId": "c5819351-47a9-455c-f59c-2f17592f9ba1",
        "colab": {
          "base_uri": "https://localhost:8080/",
          "height": 51
        }
      },
      "source": [
        "trainingSummary_v1 = lr_model_v1.summary\n",
        "\n",
        "print(\"RMSE: %f\" % trainingSummary_v1.rootMeanSquaredError)\n",
        "print(\"r2: %f\" % trainingSummary_v1.r2)"
      ],
      "execution_count": 36,
      "outputs": [
        {
          "output_type": "stream",
          "text": [
            "RMSE: 10.486305\n",
            "r2: 0.949130\n"
          ],
          "name": "stdout"
        }
      ]
    },
    {
      "cell_type": "markdown",
      "metadata": {
        "id": "ddsTiDEs8-97",
        "colab_type": "text"
      },
      "source": [
        "Evaluate performance on test dataset"
      ]
    },
    {
      "cell_type": "code",
      "metadata": {
        "id": "dcRmQVnw8_YW",
        "colab_type": "code",
        "colab": {}
      },
      "source": [
        "from pyspark.ml.evaluation import RegressionEvaluator\n",
        "\n",
        "#Transforming test set\n",
        "predictions_v1 = lr_model_v1.transform(test)\n",
        "eval_reg = RegressionEvaluator(labelCol=\"ARR_DELAY\", metricName=\"r2\")"
      ],
      "execution_count": 0,
      "outputs": []
    },
    {
      "cell_type": "code",
      "metadata": {
        "id": "D3o9bZui-KuH",
        "colab_type": "code",
        "outputId": "661fb071-1433-4260-b150-8e69a56d83e5",
        "colab": {
          "base_uri": "https://localhost:8080/",
          "height": 51
        }
      },
      "source": [
        "print(\"R2 on test data = %g\" % eval_reg.evaluate(predictions_v1))\n",
        "test_result_v1 = lr_model_v1.evaluate(test)\n",
        "print(\"RMSE on test data = %g\" % test_result_v1.rootMeanSquaredError)"
      ],
      "execution_count": 38,
      "outputs": [
        {
          "output_type": "stream",
          "text": [
            "R2 on test data = 0.948881\n",
            "RMSE on test data = 10.4852\n"
          ],
          "name": "stdout"
        }
      ]
    },
    {
      "cell_type": "code",
      "metadata": {
        "id": "VKSoGT2TnMdH",
        "colab_type": "code",
        "outputId": "e5ca4cf5-b779-40ee-9e8d-08dcabf091e5",
        "colab": {
          "base_uri": "https://localhost:8080/",
          "height": 68
        }
      },
      "source": [
        "print(\"Best Param (regParam): %g\" % lr_model_v1._java_obj.getRegParam())\n",
        "\n",
        "print(\"Best Param (MaxIter):  %g\" %lr_model_v1._java_obj.getMaxIter())\n",
        "\n",
        "print(\"Best Param (elasticNetParam):  %g\" % lr_model_v1._java_obj.getElasticNetParam())"
      ],
      "execution_count": 39,
      "outputs": [
        {
          "output_type": "stream",
          "text": [
            "Best Param (regParam): 0\n",
            "Best Param (MaxIter):  100\n",
            "Best Param (elasticNetParam):  0\n"
          ],
          "name": "stdout"
        }
      ]
    },
    {
      "cell_type": "markdown",
      "metadata": {
        "id": "Z1sbUT7m7axZ",
        "colab_type": "text"
      },
      "source": [
        "## 4.7 Linear Regression w/ Regularization"
      ]
    },
    {
      "cell_type": "code",
      "metadata": {
        "id": "RVzrKugh7d5k",
        "colab_type": "code",
        "colab": {}
      },
      "source": [
        "from pyspark.ml.tuning import CrossValidator, ParamGridBuilder\n",
        "from pyspark.ml import Pipeline\n",
        "from pyspark.ml.regression import LinearRegression\n",
        "\n",
        "\n",
        "lreg_v2 = LinearRegression(labelCol='ARR_DELAY', featuresCol='features')\n",
        "pipeline = Pipeline(stages=[lreg_v2])\n",
        "\n",
        "#Testing different grids to tune hyperparameters \n",
        "\n",
        "# paramGrid = ParamGridBuilder()\\\n",
        "#     .addGrid(lreg_v2.regParam, [0.01, 0.1, 0.2]) \\\n",
        "#     .addGrid(lreg_v2.fitIntercept, [True])\\\n",
        "#     .addGrid(lreg_v2.elasticNetParam, [0.0, 0.1, 0.2, 0.5])\\\n",
        "#     .addGrid(lreg_v2.maxIter, [1, 3, 5])\\\n",
        "#     .build()\n",
        "\n",
        "# paramGrid = ParamGridBuilder()\\\n",
        "#     .addGrid(lreg_v2.regParam, [0, 0.01, 0.1]) \\\n",
        "#     .addGrid(lreg_v2.elasticNetParam, [0.0, 0.1])\\\n",
        "#     .addGrid(lreg_v2.maxIter, [1, 20, 50, 100])\\\n",
        "#     .build()\n",
        "\n",
        "paramGrid = ParamGridBuilder()\\\n",
        "    .addGrid(lreg_v2.regParam, [0]) \\\n",
        "    .addGrid(lreg_v2.elasticNetParam, [0.0])\\\n",
        "    .addGrid(lreg_v2.maxIter, [100])\\\n",
        "    .build()\n",
        "\n",
        "cross_val = CrossValidator(estimator=pipeline, estimatorParamMaps=paramGrid,\n",
        "                           evaluator=RegressionEvaluator(labelCol=\"ARR_DELAY\"), numFolds=3)\n",
        "\n",
        "lr_model_v2 = cross_val.fit(train)"
      ],
      "execution_count": 0,
      "outputs": []
    },
    {
      "cell_type": "code",
      "metadata": {
        "id": "MX6FGWs2hJ0i",
        "colab_type": "code",
        "colab": {}
      },
      "source": [
        "#Getting the best model\n",
        "bestModel = lr_model_v2.bestModel"
      ],
      "execution_count": 0,
      "outputs": []
    },
    {
      "cell_type": "code",
      "metadata": {
        "id": "xKK6_eo0ZOA3",
        "colab_type": "code",
        "outputId": "f8612e56-e124-4a96-91ab-267b9a2bc4f5",
        "colab": {
          "base_uri": "https://localhost:8080/",
          "height": 51
        }
      },
      "source": [
        "#Getting the summary scores on the training set\n",
        "trainingSummary_v2 = lr_model_v2.bestModel.stages[-1].summary\n",
        "\n",
        "\n",
        "print(\"RMSE: %f\" % trainingSummary_v2.rootMeanSquaredError)\n",
        "print(\"r2: %f\" % trainingSummary_v2.r2)"
      ],
      "execution_count": 42,
      "outputs": [
        {
          "output_type": "stream",
          "text": [
            "RMSE: 10.486305\n",
            "r2: 0.949130\n"
          ],
          "name": "stdout"
        }
      ]
    },
    {
      "cell_type": "code",
      "metadata": {
        "id": "qzfh-ud7ZRIe",
        "colab_type": "code",
        "colab": {}
      },
      "source": [
        "#Predicting on the test set\n",
        "predictions_v2 = lr_model_v2.transform(test)\n",
        "eval_reg_2 = RegressionEvaluator(labelCol=\"ARR_DELAY\", metricName=\"r2\")\n"
      ],
      "execution_count": 0,
      "outputs": []
    },
    {
      "cell_type": "code",
      "metadata": {
        "id": "IAYO5SHSZVqF",
        "colab_type": "code",
        "outputId": "287ae150-658f-4ae8-f78d-0d90b764d238",
        "colab": {
          "base_uri": "https://localhost:8080/",
          "height": 51
        }
      },
      "source": [
        "#Pringing out restuls\n",
        "print(\"R Squared (R2) on test data = %g\" % eval_reg_2.evaluate(predictions_v2))\n",
        "test_result_v2 = lr_model_v2.bestModel.stages[-1].evaluate(test)\n",
        "print(\"Root Mean Squared Error (RMSE) on test data = %g\" % test_result_v2.rootMeanSquaredError)"
      ],
      "execution_count": 44,
      "outputs": [
        {
          "output_type": "stream",
          "text": [
            "R Squared (R2) on test data = 0.948881\n",
            "Root Mean Squared Error (RMSE) on test data = 10.4852\n"
          ],
          "name": "stdout"
        }
      ]
    },
    {
      "cell_type": "code",
      "metadata": {
        "id": "8e2sHd_Ng_cT",
        "colab_type": "code",
        "outputId": "7c0c7b37-caad-4df9-eeb0-c7f368ccab34",
        "colab": {
          "base_uri": "https://localhost:8080/",
          "height": 68
        }
      },
      "source": [
        "#Printing the best parameters\n",
        "print(\"Best Param (regParam): %g\" % bestModel.stages[-1]._java_obj.getRegParam())\n",
        "\n",
        "print(\"Best Param (MaxIter):  %g\" % bestModel.stages[-1]._java_obj.getMaxIter())\n",
        "\n",
        "print(\"Best Param (elasticNetParam):  %g\" % bestModel.stages[-1]._java_obj.getElasticNetParam())\n"
      ],
      "execution_count": 45,
      "outputs": [
        {
          "output_type": "stream",
          "text": [
            "Best Param (regParam): 0\n",
            "Best Param (MaxIter):  100\n",
            "Best Param (elasticNetParam):  0\n"
          ],
          "name": "stdout"
        }
      ]
    },
    {
      "cell_type": "markdown",
      "metadata": {
        "id": "-FlW4V-m7GQd",
        "colab_type": "text"
      },
      "source": [
        "## 4.8 XGBoost Regressor\n"
      ]
    },
    {
      "cell_type": "code",
      "metadata": {
        "id": "llGJrTKtKgex",
        "colab_type": "code",
        "colab": {}
      },
      "source": [
        "from sklearn.base import BaseEstimator\n",
        "from sklearn.base import TransformerMixin\n",
        "from sklearn.preprocessing import StandardScaler\n",
        "from sklearn.preprocessing import FunctionTransformer\n",
        "from sklearn.pipeline import Pipeline\n",
        "from sklearn.pipeline import FeatureUnion\n",
        "from sklearn.model_selection import train_test_split\n",
        "from sklearn.model_selection import cross_val_score\n",
        "from sklearn.model_selection import KFold\n",
        "from sklearn.model_selection import StratifiedKFold\n",
        "from sklearn.model_selection import RandomizedSearchCV\n",
        "from sklearn.metrics import make_scorer\n",
        "from sklearn.metrics import accuracy_score\n",
        "from sklearn.metrics import classification_report\n",
        "from sklearn.metrics import confusion_matrix\n",
        "from sklearn.tree import DecisionTreeClassifier\n",
        "from sklearn.ensemble import RandomForestClassifier\n",
        "from sklearn.ensemble import BaggingClassifier"
      ],
      "execution_count": 0,
      "outputs": []
    },
    {
      "cell_type": "code",
      "metadata": {
        "id": "Pcefuo17Kkrr",
        "colab_type": "code",
        "colab": {}
      },
      "source": [
        "from sklearn.model_selection import train_test_split\n",
        "\n",
        "#Using only 1 million rows\n",
        "combined_data_v2 = combined_data_v2.dropna()[:1000000]\n",
        "\n",
        "#Getting label and feature columns\n",
        "label = combined_data_v2['ARR_DELAY']\n",
        "features = combined_data_v2[['DEP_DELAY', 'TAXI_OUT', 'CRS_ELAPSED_TIME', 'DISTANCE', \n",
        "                   'flight_weekday_1', 'flight_weekday_2', 'flight_weekday_3', \n",
        "                   'flight_weekday_4', 'flight_weekday_5', 'flight_weekday_6',\n",
        "                   'flight_weekday_7']]\n",
        "\n",
        "#Making test and train data sets\n",
        "x_train, x_test, y_train, y_test = train_test_split(features, label, test_size=0.20)"
      ],
      "execution_count": 0,
      "outputs": []
    },
    {
      "cell_type": "code",
      "metadata": {
        "id": "-BgjGarNUghi",
        "colab_type": "code",
        "outputId": "2c54656b-d73b-4564-bf6b-639e1a8423fe",
        "colab": {
          "base_uri": "https://localhost:8080/",
          "height": 119
        }
      },
      "source": [
        "import xgboost as xgb\n",
        "from sklearn.model_selection import GridSearchCV\n",
        "from sklearn.metrics import mean_squared_error, make_scorer\n",
        "\n",
        "model = xgb.XGBRegressor()\n",
        "\n",
        "# param = {'objective':['reg:linear'],\n",
        "#               'learning_rate': [0.05, .07], #so called `eta` value\n",
        "#               'max_depth': [3, 5],\n",
        "#               'min_child_weight': [4],\n",
        "#               'silent': [1],\n",
        "#               'subsample': [0.7],\n",
        "#               'colsample_bytree': [0.7],\n",
        "#               'n_estimators': [500]\n",
        "#          }\n",
        "\n",
        "# param = {'objective':['reg:linear'],\n",
        "#               'learning_rate': [0.09], #so called `eta` value\n",
        "#               'max_depth': [7],\n",
        "#               'min_child_weight': [4],\n",
        "#               'silent': [1],\n",
        "#               'subsample': [0.7],\n",
        "#               'colsample_bytree': [0.7],\n",
        "#               'n_estimators': [500]\n",
        "#          }\n",
        "\n",
        "# param = {'colsample_bytree': [1], \n",
        "#          'gamma': [1.5], \n",
        "#          'learning_rate': [0.01, 0.02, 0.04], \n",
        "#          'max_depth': [8], \n",
        "#          'min_child_weight': [3], \n",
        "#          'n_estimators': [100, 200, 300],\n",
        "#          'silent': [1], \n",
        "#          'subsample': [0.8]\n",
        "#          }\n",
        "\n",
        "param = {'colsample_bytree': [1], \n",
        "         'gamma': [1.5], \n",
        "         'learning_rate': [0.04], \n",
        "         'max_depth': [8], \n",
        "         'min_child_weight': [3], \n",
        "         'n_estimators': [300],\n",
        "         'silent': [1], \n",
        "         'subsample': [0.8]\n",
        "         }\n",
        "\n",
        "score_fun = make_scorer(mean_squared_error, greater_is_better = False)\n",
        "\n",
        "# Instantiate the grid search model\n",
        "grid_search = GridSearchCV(estimator = model, param_grid = param, cv = 2,\n",
        "                        n_jobs = 5,\n",
        "                        verbose=True,\n",
        "                        scoring = score_fun)\n",
        "\n",
        "# Fit the grid search to the data\n",
        "%time res = grid_search.fit(x_train, y_train)\n",
        "\n",
        "best_parameters_xgb = res.best_params_\n",
        "\n",
        "\n"
      ],
      "execution_count": 48,
      "outputs": [
        {
          "output_type": "stream",
          "text": [
            "Fitting 2 folds for each of 1 candidates, totalling 2 fits\n"
          ],
          "name": "stdout"
        },
        {
          "output_type": "stream",
          "text": [
            "[Parallel(n_jobs=5)]: Using backend LokyBackend with 5 concurrent workers.\n",
            "[Parallel(n_jobs=5)]: Done   2 out of   2 | elapsed:  3.2min remaining:    0.0s\n",
            "[Parallel(n_jobs=5)]: Done   2 out of   2 | elapsed:  3.2min finished\n"
          ],
          "name": "stderr"
        },
        {
          "output_type": "stream",
          "text": [
            "CPU times: user 6min 31s, sys: 1.42 s, total: 6min 33s\n",
            "Wall time: 9min 43s\n"
          ],
          "name": "stdout"
        }
      ]
    },
    {
      "cell_type": "code",
      "metadata": {
        "id": "R4rFfQdl0lo2",
        "colab_type": "code",
        "outputId": "5df9226b-73e7-4a58-f345-29d2687d5f2a",
        "colab": {
          "base_uri": "https://localhost:8080/",
          "height": 51
        }
      },
      "source": [
        "print(res.best_score_)\n",
        "print(res.best_params_)\n"
      ],
      "execution_count": 49,
      "outputs": [
        {
          "output_type": "stream",
          "text": [
            "-115.56216275170641\n",
            "{'colsample_bytree': 1, 'gamma': 1.5, 'learning_rate': 0.04, 'max_depth': 8, 'min_child_weight': 3, 'n_estimators': 300, 'silent': 1, 'subsample': 0.8}\n"
          ],
          "name": "stdout"
        }
      ]
    },
    {
      "cell_type": "code",
      "metadata": {
        "id": "JR32UE-E1rUK",
        "colab_type": "code",
        "outputId": "aa9423b1-26bf-4b47-a4ff-fe3ba51094e8",
        "colab": {
          "base_uri": "https://localhost:8080/",
          "height": 85
        }
      },
      "source": [
        "from sklearn.metrics import r2_score\n",
        "from sklearn.metrics import mean_squared_error\n",
        "import math\n",
        "\n",
        "\n",
        "%time preds = res.best_estimator_.predict(x_test)\n",
        "print(r2_score(y_test, preds)) \n",
        "print(math.sqrt(mean_squared_error(y_test, preds))) \n"
      ],
      "execution_count": 50,
      "outputs": [
        {
          "output_type": "stream",
          "text": [
            "CPU times: user 5.8 s, sys: 43 ms, total: 5.84 s\n",
            "Wall time: 5.84 s\n",
            "0.9538696507247607\n",
            "10.715838006466921\n"
          ],
          "name": "stdout"
        }
      ]
    }
  ]
}